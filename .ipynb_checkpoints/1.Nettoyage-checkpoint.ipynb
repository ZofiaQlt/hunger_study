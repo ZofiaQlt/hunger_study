{
 "cells": [
  {
   "cell_type": "markdown",
   "id": "900ee0cf",
   "metadata": {
    "canvas": {
     "comments": [],
     "componentType": "CodeCell",
     "copiedOriginId": null,
     "diskcache": false,
     "headerColor": "none",
     "id": "72df450a-a287-416f-a73b-3babb7899893",
     "isComponent": false,
     "name": "",
     "parents": []
    },
    "tags": []
   },
   "source": [
    "<img src=\"img/logo_FAO.png\">"
   ]
  },
  {
   "cell_type": "markdown",
   "id": "88c8344d",
   "metadata": {
    "canvas": {
     "comments": [],
     "componentType": "CodeCell",
     "copiedOriginId": null,
     "diskcache": false,
     "headerColor": "none",
     "id": "806889ed-644f-4f7b-bf78-d113b947ad57",
     "isComponent": false,
     "name": "",
     "parents": []
    }
   },
   "source": [
    "*L’Organisation pour l’alimentation et l’agriculture (FAO) est l’agence spécialisée des Nations Unies qui mène les efforts internationaux vers l’élimination de la faim. Notre objectif est d’atteindre la sécurité alimentaire pour tous et d’assurer un accès régulier et suffisant à une nourriture de bonne qualité permettant à tous, de mener une vie saine et active. Avec 195 membres - 194 pays et l'Union européenne, la FAO est active dans 130 pays à travers le monde.*\n",
    "\n",
    "*Dans le présent rapport je vais vous présenter le nettoyage des données sur la sous-nutrition dans le monde depuis 2013.*"
   ]
  },
  {
   "cell_type": "markdown",
   "id": "67c9761f",
   "metadata": {
    "canvas": {
     "comments": [],
     "componentType": "CodeCell",
     "copiedOriginId": null,
     "diskcache": false,
     "headerColor": "none",
     "id": "bbac5607-6bf5-44bb-9762-a72715a33a07",
     "isComponent": false,
     "name": "",
     "parents": []
    },
    "heading_collapsed": true
   },
   "source": [
    "# Chargement des librairies"
   ]
  },
  {
   "cell_type": "code",
   "execution_count": 1,
   "id": "68ee9108",
   "metadata": {
    "canvas": {
     "comments": [],
     "componentType": "CodeCell",
     "copiedOriginId": null,
     "diskcache": false,
     "headerColor": "none",
     "id": "c6453cf8-32b7-4490-90a3-434fec7ca71c",
     "isComponent": false,
     "name": "",
     "parents": []
    },
    "hidden": true
   },
   "outputs": [
    {
     "name": "stdout",
     "output_type": "stream",
     "text": [
      "Version numpy : 1.23.5\n",
      "Version pandas : 1.4.4\n"
     ]
    }
   ],
   "source": [
    "import numpy as np\n",
    "import pandas as pd\n",
    "\n",
    "print(\"Version numpy : \" + np.__version__)\n",
    "print(\"Version pandas : \" + pd.__version__)\n",
    "\n",
    "chemin_aide_alim = 'src/aide_alimentaire.csv'\n",
    "chemin_dispo_alim = 'src/dispo_alimentaire.csv'\n",
    "chemin_pop = 'src/population.csv'\n",
    "chemin_sous_nut = 'src/sous_nutrition.csv'\n",
    "chemin_iso = 'src/iso_gouv.csv'"
   ]
  },
  {
   "cell_type": "markdown",
   "id": "6ac24730",
   "metadata": {
    "canvas": {
     "comments": [],
     "componentType": "CodeCell",
     "copiedOriginId": null,
     "diskcache": false,
     "headerColor": "none",
     "id": "2ea3de6a-fe5a-4d40-a63f-a5c2d2bad25d",
     "isComponent": false,
     "name": "",
     "parents": []
    },
    "heading_collapsed": true
   },
   "source": [
    "# Chargement des fichiers .csv"
   ]
  },
  {
   "cell_type": "code",
   "execution_count": 2,
   "id": "b4015a84",
   "metadata": {
    "canvas": {
     "comments": [],
     "componentType": "CodeCell",
     "copiedOriginId": null,
     "diskcache": false,
     "headerColor": "none",
     "id": "fea81cc5-f4f2-4d57-aa24-4c0db3444b06",
     "isComponent": false,
     "name": "",
     "parents": []
    },
    "hidden": true
   },
   "outputs": [],
   "source": [
    "aide_alim = pd.read_csv(chemin_aide_alim)\n",
    "dispo_alim = pd.read_csv(chemin_dispo_alim)\n",
    "population = pd.read_csv(chemin_pop)\n",
    "sous_nutrition = pd.read_csv(chemin_sous_nut)\n",
    "iso = pd.read_csv(chemin_iso, sep=\";\")"
   ]
  },
  {
   "cell_type": "markdown",
   "id": "a297f58c",
   "metadata": {
    "canvas": {
     "comments": [],
     "componentType": "CodeCell",
     "copiedOriginId": null,
     "diskcache": false,
     "headerColor": "none",
     "id": "0c49e728-aef1-43e7-a7f7-85776ea50648",
     "isComponent": false,
     "name": "",
     "parents": []
    },
    "heading_collapsed": true
   },
   "source": [
    "# **Sous-nutrition**"
   ]
  },
  {
   "cell_type": "markdown",
   "id": "dc9372dc",
   "metadata": {
    "canvas": {
     "comments": [],
     "componentType": "CodeCell",
     "copiedOriginId": null,
     "diskcache": false,
     "headerColor": "none",
     "id": "c49e133b-75fb-422f-859a-a45636cd7a20",
     "isComponent": false,
     "name": "",
     "parents": []
    },
    "heading_collapsed": true,
    "hidden": true
   },
   "source": [
    "## Remplacement des valeurs NaN par 0"
   ]
  },
  {
   "cell_type": "code",
   "execution_count": 3,
   "id": "255c729b",
   "metadata": {
    "canvas": {
     "comments": [],
     "componentType": "CodeCell",
     "copiedOriginId": null,
     "diskcache": false,
     "headerColor": "none",
     "id": "a9894624-b86e-426c-ae3a-162e701b432e",
     "isComponent": false,
     "name": "",
     "parents": []
    },
    "hidden": true
   },
   "outputs": [],
   "source": [
    "sous_nutrition = sous_nutrition.replace(np.nan, 0)"
   ]
  },
  {
   "cell_type": "code",
   "execution_count": 4,
   "id": "50105216",
   "metadata": {
    "canvas": {
     "comments": [],
     "componentType": "CodeCell",
     "copiedOriginId": null,
     "diskcache": false,
     "headerColor": "none",
     "id": "c4267576-229b-40f3-85a5-55be2eeeb4d5",
     "isComponent": false,
     "name": "",
     "parents": []
    },
    "hidden": true
   },
   "outputs": [
    {
     "data": {
      "text/html": [
       "<div>\n",
       "<style scoped>\n",
       "    .dataframe tbody tr th:only-of-type {\n",
       "        vertical-align: middle;\n",
       "    }\n",
       "\n",
       "    .dataframe tbody tr th {\n",
       "        vertical-align: top;\n",
       "    }\n",
       "\n",
       "    .dataframe thead th {\n",
       "        text-align: right;\n",
       "    }\n",
       "</style>\n",
       "<table border=\"1\" class=\"dataframe\">\n",
       "  <thead>\n",
       "    <tr style=\"text-align: right;\">\n",
       "      <th></th>\n",
       "      <th>Zone</th>\n",
       "      <th>Année</th>\n",
       "      <th>Valeur</th>\n",
       "    </tr>\n",
       "  </thead>\n",
       "  <tbody>\n",
       "    <tr>\n",
       "      <th>183</th>\n",
       "      <td>Burkina Faso</td>\n",
       "      <td>2015-2017</td>\n",
       "      <td>3.4</td>\n",
       "    </tr>\n",
       "    <tr>\n",
       "      <th>598</th>\n",
       "      <td>Koweït</td>\n",
       "      <td>2016-2018</td>\n",
       "      <td>0</td>\n",
       "    </tr>\n",
       "    <tr>\n",
       "      <th>891</th>\n",
       "      <td>Portugal</td>\n",
       "      <td>2015-2017</td>\n",
       "      <td>0</td>\n",
       "    </tr>\n",
       "    <tr>\n",
       "      <th>791</th>\n",
       "      <td>Nouvelle-Calédonie</td>\n",
       "      <td>2017-2019</td>\n",
       "      <td>&lt;0.1</td>\n",
       "    </tr>\n",
       "    <tr>\n",
       "      <th>715</th>\n",
       "      <td>Mongolie</td>\n",
       "      <td>2013-2015</td>\n",
       "      <td>0.6</td>\n",
       "    </tr>\n",
       "  </tbody>\n",
       "</table>\n",
       "</div>"
      ],
      "text/plain": [
       "                   Zone      Année Valeur\n",
       "183        Burkina Faso  2015-2017    3.4\n",
       "598              Koweït  2016-2018      0\n",
       "891            Portugal  2015-2017      0\n",
       "791  Nouvelle-Calédonie  2017-2019   <0.1\n",
       "715            Mongolie  2013-2015    0.6"
      ]
     },
     "execution_count": 4,
     "metadata": {},
     "output_type": "execute_result"
    }
   ],
   "source": [
    "sous_nutrition.sample(5)"
   ]
  },
  {
   "cell_type": "markdown",
   "id": "676b1749",
   "metadata": {
    "canvas": {
     "comments": [],
     "componentType": "CodeCell",
     "copiedOriginId": null,
     "diskcache": false,
     "headerColor": "none",
     "id": "49d14009-2c4a-4fa8-99f2-4c413858c7cb",
     "isComponent": false,
     "name": "",
     "parents": []
    },
    "heading_collapsed": true,
    "hidden": true
   },
   "source": [
    "## Changement du format en float (colonne \"Valeur\")"
   ]
  },
  {
   "cell_type": "code",
   "execution_count": 5,
   "id": "3b7cf189",
   "metadata": {
    "canvas": {
     "comments": [],
     "componentType": "CodeCell",
     "copiedOriginId": null,
     "diskcache": false,
     "headerColor": "none",
     "id": "57c343b0-125f-4a94-85c2-51626663f9ae",
     "isComponent": false,
     "name": "",
     "parents": []
    },
    "hidden": true
   },
   "outputs": [],
   "source": [
    "sous_nutrition['Valeur'] = sous_nutrition['Valeur'].replace('<0.1', 0)"
   ]
  },
  {
   "cell_type": "code",
   "execution_count": 6,
   "id": "00cbf565",
   "metadata": {
    "canvas": {
     "comments": [],
     "componentType": "CodeCell",
     "copiedOriginId": null,
     "diskcache": false,
     "headerColor": "none",
     "id": "67c842c3-a721-49a3-b982-b6f98aeae0d1",
     "isComponent": false,
     "name": "",
     "parents": []
    },
    "hidden": true
   },
   "outputs": [],
   "source": [
    "sous_nutrition['Valeur'] = sous_nutrition['Valeur'].astype('float')"
   ]
  },
  {
   "cell_type": "code",
   "execution_count": 7,
   "id": "a49ba991",
   "metadata": {
    "canvas": {
     "comments": [],
     "componentType": "CodeCell",
     "copiedOriginId": null,
     "diskcache": false,
     "headerColor": "none",
     "id": "698afaff-f2fb-4001-b57a-efe6b08c4f24",
     "isComponent": false,
     "name": "",
     "parents": []
    },
    "hidden": true
   },
   "outputs": [
    {
     "data": {
      "text/plain": [
       "Zone       object\n",
       "Année      object\n",
       "Valeur    float64\n",
       "dtype: object"
      ]
     },
     "execution_count": 7,
     "metadata": {},
     "output_type": "execute_result"
    }
   ],
   "source": [
    "sous_nutrition.dtypes"
   ]
  },
  {
   "cell_type": "markdown",
   "id": "22a40cc2",
   "metadata": {
    "canvas": {
     "comments": [],
     "componentType": "CodeCell",
     "copiedOriginId": null,
     "diskcache": false,
     "headerColor": "none",
     "id": "e205e541-fe02-49a3-80c2-57652b1880f0",
     "isComponent": false,
     "name": "",
     "parents": []
    },
    "heading_collapsed": true,
    "hidden": true
   },
   "source": [
    "## Mise en commun des échelles"
   ]
  },
  {
   "cell_type": "code",
   "execution_count": 8,
   "id": "3df50077",
   "metadata": {
    "canvas": {
     "comments": [],
     "componentType": "CodeCell",
     "copiedOriginId": null,
     "diskcache": false,
     "headerColor": "none",
     "id": "a6e1b914-721e-4e66-b461-d5e87d5c0469",
     "isComponent": false,
     "name": "",
     "parents": []
    },
    "hidden": true
   },
   "outputs": [],
   "source": [
    "sous_nutrition['Valeur'] = sous_nutrition['Valeur'] * 1000000"
   ]
  },
  {
   "cell_type": "code",
   "execution_count": 9,
   "id": "dd5ea2b0",
   "metadata": {
    "canvas": {
     "comments": [],
     "componentType": "CodeCell",
     "copiedOriginId": null,
     "diskcache": false,
     "headerColor": "none",
     "id": "82f83ac2-d0f8-46cd-8534-fde8e049e264",
     "isComponent": false,
     "name": "",
     "parents": []
    },
    "hidden": true
   },
   "outputs": [
    {
     "data": {
      "text/html": [
       "<div>\n",
       "<style scoped>\n",
       "    .dataframe tbody tr th:only-of-type {\n",
       "        vertical-align: middle;\n",
       "    }\n",
       "\n",
       "    .dataframe tbody tr th {\n",
       "        vertical-align: top;\n",
       "    }\n",
       "\n",
       "    .dataframe thead th {\n",
       "        text-align: right;\n",
       "    }\n",
       "</style>\n",
       "<table border=\"1\" class=\"dataframe\">\n",
       "  <thead>\n",
       "    <tr style=\"text-align: right;\">\n",
       "      <th></th>\n",
       "      <th>Zone</th>\n",
       "      <th>Année</th>\n",
       "      <th>Valeur</th>\n",
       "    </tr>\n",
       "  </thead>\n",
       "  <tbody>\n",
       "    <tr>\n",
       "      <th>453</th>\n",
       "      <td>Guinée équatoriale</td>\n",
       "      <td>2015-2017</td>\n",
       "      <td>0.0</td>\n",
       "    </tr>\n",
       "    <tr>\n",
       "      <th>76</th>\n",
       "      <td>Autriche</td>\n",
       "      <td>2016-2018</td>\n",
       "      <td>0.0</td>\n",
       "    </tr>\n",
       "    <tr>\n",
       "      <th>1083</th>\n",
       "      <td>Suisse</td>\n",
       "      <td>2015-2017</td>\n",
       "      <td>0.0</td>\n",
       "    </tr>\n",
       "    <tr>\n",
       "      <th>845</th>\n",
       "      <td>Papouasie-Nouvelle-Guinée</td>\n",
       "      <td>2017-2019</td>\n",
       "      <td>0.0</td>\n",
       "    </tr>\n",
       "    <tr>\n",
       "      <th>313</th>\n",
       "      <td>Égypte</td>\n",
       "      <td>2013-2015</td>\n",
       "      <td>4300000.0</td>\n",
       "    </tr>\n",
       "  </tbody>\n",
       "</table>\n",
       "</div>"
      ],
      "text/plain": [
       "                           Zone      Année     Valeur\n",
       "453          Guinée équatoriale  2015-2017        0.0\n",
       "76                     Autriche  2016-2018        0.0\n",
       "1083                     Suisse  2015-2017        0.0\n",
       "845   Papouasie-Nouvelle-Guinée  2017-2019        0.0\n",
       "313                      Égypte  2013-2015  4300000.0"
      ]
     },
     "execution_count": 9,
     "metadata": {},
     "output_type": "execute_result"
    }
   ],
   "source": [
    "sous_nutrition.sample(5)"
   ]
  },
  {
   "cell_type": "markdown",
   "id": "b7029452",
   "metadata": {
    "canvas": {
     "comments": [],
     "componentType": "CodeCell",
     "copiedOriginId": null,
     "diskcache": false,
     "headerColor": "none",
     "id": "d6bb92ab-4973-4e00-891a-63d4806ee944",
     "isComponent": false,
     "name": "",
     "parents": []
    },
    "heading_collapsed": true,
    "hidden": true
   },
   "source": [
    "## Mise en commun des années"
   ]
  },
  {
   "cell_type": "code",
   "execution_count": 10,
   "id": "606633c1",
   "metadata": {
    "canvas": {
     "comments": [],
     "componentType": "CodeCell",
     "copiedOriginId": null,
     "diskcache": false,
     "headerColor": "none",
     "id": "236d57e9-2f7f-4069-91b5-121a5227c5ba",
     "isComponent": false,
     "name": "",
     "parents": []
    },
    "hidden": true
   },
   "outputs": [
    {
     "data": {
      "text/plain": [
       "array(['2012-2014', '2013-2015', '2014-2016', '2015-2017', '2016-2018',\n",
       "       '2017-2019'], dtype=object)"
      ]
     },
     "execution_count": 10,
     "metadata": {},
     "output_type": "execute_result"
    }
   ],
   "source": [
    "sous_nutrition['Année'].unique()"
   ]
  },
  {
   "cell_type": "code",
   "execution_count": 11,
   "id": "b65a5ddb",
   "metadata": {
    "canvas": {
     "comments": [],
     "componentType": "CodeCell",
     "copiedOriginId": null,
     "diskcache": false,
     "headerColor": "none",
     "id": "ed06e65e-7351-476d-b34a-00fc2e416e39",
     "isComponent": false,
     "name": "",
     "parents": []
    },
    "hidden": true
   },
   "outputs": [],
   "source": [
    "sous_nutrition[\"Année\"] = sous_nutrition[\"Année\"].replace(\"2012-2014\", 2013).replace(\"2013-2015\", 2014).replace(\"2014-2016\", 2015).replace(\"2015-2017\", 2016).replace(\"2016-2018\", 2017).replace(\"2017-2019\", 2018)"
   ]
  },
  {
   "cell_type": "code",
   "execution_count": 12,
   "id": "234bcd36",
   "metadata": {
    "canvas": {
     "comments": [],
     "componentType": "CodeCell",
     "copiedOriginId": null,
     "diskcache": false,
     "headerColor": "none",
     "id": "a1255220-2247-487a-8f1b-e09b0558f10d",
     "isComponent": false,
     "name": "",
     "parents": []
    },
    "hidden": true
   },
   "outputs": [
    {
     "data": {
      "text/plain": [
       "array([2013, 2014, 2015, 2016, 2017, 2018])"
      ]
     },
     "execution_count": 12,
     "metadata": {},
     "output_type": "execute_result"
    }
   ],
   "source": [
    "sous_nutrition['Année'].unique()"
   ]
  },
  {
   "cell_type": "code",
   "execution_count": 13,
   "id": "fa23b26a",
   "metadata": {
    "canvas": {
     "comments": [],
     "componentType": "CodeCell",
     "copiedOriginId": null,
     "diskcache": false,
     "headerColor": "none",
     "id": "f0140dc3-8530-4444-b5bb-dede3288ced5",
     "isComponent": false,
     "name": "",
     "parents": []
    },
    "hidden": true
   },
   "outputs": [
    {
     "data": {
      "text/plain": [
       "dtype('int64')"
      ]
     },
     "execution_count": 13,
     "metadata": {},
     "output_type": "execute_result"
    }
   ],
   "source": [
    "sous_nutrition['Année'].dtypes"
   ]
  },
  {
   "cell_type": "code",
   "execution_count": 14,
   "id": "765b6f92",
   "metadata": {
    "canvas": {
     "comments": [],
     "componentType": "CodeCell",
     "copiedOriginId": null,
     "diskcache": false,
     "headerColor": "none",
     "id": "a391389b-815c-4631-8b89-9a9a1681c8f1",
     "isComponent": false,
     "name": "",
     "parents": []
    },
    "hidden": true
   },
   "outputs": [
    {
     "name": "stdout",
     "output_type": "stream",
     "text": [
      "<class 'pandas.core.frame.DataFrame'>\n",
      "RangeIndex: 1218 entries, 0 to 1217\n",
      "Data columns (total 3 columns):\n",
      " #   Column  Non-Null Count  Dtype  \n",
      "---  ------  --------------  -----  \n",
      " 0   Zone    1218 non-null   object \n",
      " 1   Année   1218 non-null   int64  \n",
      " 2   Valeur  1218 non-null   float64\n",
      "dtypes: float64(1), int64(1), object(1)\n",
      "memory usage: 28.7+ KB\n"
     ]
    }
   ],
   "source": [
    "sous_nutrition.info()"
   ]
  },
  {
   "cell_type": "markdown",
   "id": "148566d6",
   "metadata": {
    "canvas": {
     "comments": [],
     "componentType": "CodeCell",
     "copiedOriginId": null,
     "diskcache": false,
     "headerColor": "none",
     "id": "3a554dac-ebfa-4c8a-9157-ede5cfd2d3b6",
     "isComponent": false,
     "name": "",
     "parents": []
    },
    "heading_collapsed": true,
    "hidden": true
   },
   "source": [
    "## Au vu des futures jointures renommage des colonnes en noms uniques"
   ]
  },
  {
   "cell_type": "code",
   "execution_count": 15,
   "id": "18b4d2ce",
   "metadata": {
    "canvas": {
     "comments": [],
     "componentType": "CodeCell",
     "copiedOriginId": null,
     "diskcache": false,
     "headerColor": "none",
     "id": "bee250db-662e-41cc-ae24-e3c049d594c5",
     "isComponent": false,
     "name": "",
     "parents": []
    },
    "hidden": true
   },
   "outputs": [],
   "source": [
    "sous_nutrition.rename(columns = {'Valeur': 'Population en sous-nutrition'}, inplace=True)"
   ]
  },
  {
   "cell_type": "code",
   "execution_count": 16,
   "id": "c6684bf4",
   "metadata": {
    "canvas": {
     "comments": [],
     "componentType": "CodeCell",
     "copiedOriginId": null,
     "diskcache": false,
     "headerColor": "none",
     "id": "c62d0796-528b-408b-b7da-90be3a8b32b1",
     "isComponent": false,
     "name": "",
     "parents": []
    },
    "hidden": true
   },
   "outputs": [
    {
     "data": {
      "text/html": [
       "<div>\n",
       "<style scoped>\n",
       "    .dataframe tbody tr th:only-of-type {\n",
       "        vertical-align: middle;\n",
       "    }\n",
       "\n",
       "    .dataframe tbody tr th {\n",
       "        vertical-align: top;\n",
       "    }\n",
       "\n",
       "    .dataframe thead th {\n",
       "        text-align: right;\n",
       "    }\n",
       "</style>\n",
       "<table border=\"1\" class=\"dataframe\">\n",
       "  <thead>\n",
       "    <tr style=\"text-align: right;\">\n",
       "      <th></th>\n",
       "      <th>Zone</th>\n",
       "      <th>Année</th>\n",
       "      <th>Population en sous-nutrition</th>\n",
       "    </tr>\n",
       "  </thead>\n",
       "  <tbody>\n",
       "    <tr>\n",
       "      <th>648</th>\n",
       "      <td>Madagascar</td>\n",
       "      <td>2013</td>\n",
       "      <td>7600000.0</td>\n",
       "    </tr>\n",
       "    <tr>\n",
       "      <th>686</th>\n",
       "      <td>Maroc</td>\n",
       "      <td>2015</td>\n",
       "      <td>1300000.0</td>\n",
       "    </tr>\n",
       "    <tr>\n",
       "      <th>439</th>\n",
       "      <td>Guatemala</td>\n",
       "      <td>2014</td>\n",
       "      <td>2800000.0</td>\n",
       "    </tr>\n",
       "    <tr>\n",
       "      <th>708</th>\n",
       "      <td>Micronésie (États fédérés de)</td>\n",
       "      <td>2013</td>\n",
       "      <td>0.0</td>\n",
       "    </tr>\n",
       "    <tr>\n",
       "      <th>752</th>\n",
       "      <td>Népal</td>\n",
       "      <td>2015</td>\n",
       "      <td>1700000.0</td>\n",
       "    </tr>\n",
       "  </tbody>\n",
       "</table>\n",
       "</div>"
      ],
      "text/plain": [
       "                              Zone  Année  Population en sous-nutrition\n",
       "648                     Madagascar   2013                     7600000.0\n",
       "686                          Maroc   2015                     1300000.0\n",
       "439                      Guatemala   2014                     2800000.0\n",
       "708  Micronésie (États fédérés de)   2013                           0.0\n",
       "752                          Népal   2015                     1700000.0"
      ]
     },
     "execution_count": 16,
     "metadata": {},
     "output_type": "execute_result"
    }
   ],
   "source": [
    "sous_nutrition.sample(5)"
   ]
  },
  {
   "cell_type": "markdown",
   "id": "a61dd711",
   "metadata": {
    "canvas": {
     "comments": [],
     "componentType": "CodeCell",
     "copiedOriginId": null,
     "diskcache": false,
     "headerColor": "none",
     "id": "581eec06-c3a5-479c-85d2-eaf1eaa354f7",
     "isComponent": false,
     "name": "",
     "parents": []
    },
    "heading_collapsed": true
   },
   "source": [
    "# **Population**"
   ]
  },
  {
   "cell_type": "markdown",
   "id": "af9e12ae",
   "metadata": {
    "canvas": {
     "comments": [],
     "componentType": "CodeCell",
     "copiedOriginId": null,
     "diskcache": false,
     "headerColor": "none",
     "id": "c48d7a32-63dc-4eec-baaf-50583ee49e7a",
     "isComponent": false,
     "name": "",
     "parents": []
    },
    "heading_collapsed": true,
    "hidden": true
   },
   "source": [
    "## Mise en commun des échelles"
   ]
  },
  {
   "cell_type": "code",
   "execution_count": 17,
   "id": "9da3d8c3",
   "metadata": {
    "canvas": {
     "comments": [],
     "componentType": "CodeCell",
     "copiedOriginId": null,
     "diskcache": false,
     "headerColor": "none",
     "id": "08d6d98c-f2c9-4bfb-850d-25673e9b7c94",
     "isComponent": false,
     "name": "",
     "parents": []
    },
    "hidden": true
   },
   "outputs": [],
   "source": [
    "population['Valeur'] = population['Valeur'] * 1000"
   ]
  },
  {
   "cell_type": "code",
   "execution_count": 18,
   "id": "68c3d32a",
   "metadata": {
    "canvas": {
     "comments": [],
     "componentType": "CodeCell",
     "copiedOriginId": null,
     "diskcache": false,
     "headerColor": "none",
     "id": "0ef8b324-c62a-4692-9a95-9d23c8dbbc5f",
     "isComponent": false,
     "name": "",
     "parents": []
    },
    "hidden": true
   },
   "outputs": [
    {
     "data": {
      "text/html": [
       "<div>\n",
       "<style scoped>\n",
       "    .dataframe tbody tr th:only-of-type {\n",
       "        vertical-align: middle;\n",
       "    }\n",
       "\n",
       "    .dataframe tbody tr th {\n",
       "        vertical-align: top;\n",
       "    }\n",
       "\n",
       "    .dataframe thead th {\n",
       "        text-align: right;\n",
       "    }\n",
       "</style>\n",
       "<table border=\"1\" class=\"dataframe\">\n",
       "  <thead>\n",
       "    <tr style=\"text-align: right;\">\n",
       "      <th></th>\n",
       "      <th>Zone</th>\n",
       "      <th>Année</th>\n",
       "      <th>Valeur</th>\n",
       "    </tr>\n",
       "  </thead>\n",
       "  <tbody>\n",
       "    <tr>\n",
       "      <th>170</th>\n",
       "      <td>Bonaire, Saint-Eustache et Saba</td>\n",
       "      <td>2015</td>\n",
       "      <td>24570.0</td>\n",
       "    </tr>\n",
       "    <tr>\n",
       "      <th>104</th>\n",
       "      <td>Bahamas</td>\n",
       "      <td>2015</td>\n",
       "      <td>374206.0</td>\n",
       "    </tr>\n",
       "    <tr>\n",
       "      <th>1052</th>\n",
       "      <td>République centrafricaine</td>\n",
       "      <td>2015</td>\n",
       "      <td>4493170.0</td>\n",
       "    </tr>\n",
       "    <tr>\n",
       "      <th>1023</th>\n",
       "      <td>Polynésie française</td>\n",
       "      <td>2016</td>\n",
       "      <td>274575.0</td>\n",
       "    </tr>\n",
       "    <tr>\n",
       "      <th>149</th>\n",
       "      <td>Bénin</td>\n",
       "      <td>2018</td>\n",
       "      <td>11485044.0</td>\n",
       "    </tr>\n",
       "  </tbody>\n",
       "</table>\n",
       "</div>"
      ],
      "text/plain": [
       "                                 Zone  Année      Valeur\n",
       "170   Bonaire, Saint-Eustache et Saba   2015     24570.0\n",
       "104                           Bahamas   2015    374206.0\n",
       "1052        République centrafricaine   2015   4493170.0\n",
       "1023              Polynésie française   2016    274575.0\n",
       "149                             Bénin   2018  11485044.0"
      ]
     },
     "execution_count": 18,
     "metadata": {},
     "output_type": "execute_result"
    }
   ],
   "source": [
    "population.sample(5)"
   ]
  },
  {
   "cell_type": "markdown",
   "id": "30cf2440",
   "metadata": {
    "canvas": {
     "comments": [],
     "componentType": "CodeCell",
     "copiedOriginId": null,
     "diskcache": false,
     "headerColor": "none",
     "id": "5706c325-1985-4cbe-b193-b7a1330fb617",
     "isComponent": false,
     "name": "",
     "parents": []
    },
    "heading_collapsed": true,
    "hidden": true
   },
   "source": [
    "## Au vu des futures jointures renommage des colonnes en noms uniques"
   ]
  },
  {
   "cell_type": "code",
   "execution_count": 19,
   "id": "81d65f6a",
   "metadata": {
    "canvas": {
     "comments": [],
     "componentType": "CodeCell",
     "copiedOriginId": null,
     "diskcache": false,
     "headerColor": "none",
     "id": "3ff21f47-5faf-4ec0-8bb5-a8fe1f4291cd",
     "isComponent": false,
     "name": "",
     "parents": []
    },
    "hidden": true
   },
   "outputs": [],
   "source": [
    "population.rename(columns = {'Valeur': 'Population'}, inplace=True)"
   ]
  },
  {
   "cell_type": "code",
   "execution_count": 20,
   "id": "c2be0271",
   "metadata": {
    "canvas": {
     "comments": [],
     "componentType": "CodeCell",
     "copiedOriginId": null,
     "diskcache": false,
     "headerColor": "none",
     "id": "5880feae-c629-40a9-b7c0-96e7ebbd6770",
     "isComponent": false,
     "name": "",
     "parents": []
    },
    "hidden": true
   },
   "outputs": [
    {
     "data": {
      "text/html": [
       "<div>\n",
       "<style scoped>\n",
       "    .dataframe tbody tr th:only-of-type {\n",
       "        vertical-align: middle;\n",
       "    }\n",
       "\n",
       "    .dataframe tbody tr th {\n",
       "        vertical-align: top;\n",
       "    }\n",
       "\n",
       "    .dataframe thead th {\n",
       "        text-align: right;\n",
       "    }\n",
       "</style>\n",
       "<table border=\"1\" class=\"dataframe\">\n",
       "  <thead>\n",
       "    <tr style=\"text-align: right;\">\n",
       "      <th></th>\n",
       "      <th>Zone</th>\n",
       "      <th>Année</th>\n",
       "      <th>Population</th>\n",
       "    </tr>\n",
       "  </thead>\n",
       "  <tbody>\n",
       "    <tr>\n",
       "      <th>453</th>\n",
       "      <td>Gibraltar</td>\n",
       "      <td>2016</td>\n",
       "      <td>33737.0</td>\n",
       "    </tr>\n",
       "    <tr>\n",
       "      <th>462</th>\n",
       "      <td>Grenade</td>\n",
       "      <td>2013</td>\n",
       "      <td>108170.0</td>\n",
       "    </tr>\n",
       "    <tr>\n",
       "      <th>808</th>\n",
       "      <td>Maroc</td>\n",
       "      <td>2017</td>\n",
       "      <td>35581255.0</td>\n",
       "    </tr>\n",
       "    <tr>\n",
       "      <th>912</th>\n",
       "      <td>Nigéria</td>\n",
       "      <td>2013</td>\n",
       "      <td>171765816.0</td>\n",
       "    </tr>\n",
       "    <tr>\n",
       "      <th>1374</th>\n",
       "      <td>Uruguay</td>\n",
       "      <td>2013</td>\n",
       "      <td>3389443.0</td>\n",
       "    </tr>\n",
       "  </tbody>\n",
       "</table>\n",
       "</div>"
      ],
      "text/plain": [
       "           Zone  Année   Population\n",
       "453   Gibraltar   2016      33737.0\n",
       "462     Grenade   2013     108170.0\n",
       "808       Maroc   2017   35581255.0\n",
       "912     Nigéria   2013  171765816.0\n",
       "1374    Uruguay   2013    3389443.0"
      ]
     },
     "execution_count": 20,
     "metadata": {},
     "output_type": "execute_result"
    }
   ],
   "source": [
    "population.sample(5)"
   ]
  },
  {
   "cell_type": "markdown",
   "id": "d62f1719",
   "metadata": {
    "canvas": {
     "comments": [],
     "componentType": "CodeCell",
     "copiedOriginId": null,
     "diskcache": false,
     "headerColor": "none",
     "id": "a4ae37cb-153f-43cb-9d6d-c63a545694b8",
     "isComponent": false,
     "name": "",
     "parents": []
    },
    "heading_collapsed": true,
    "hidden": true
   },
   "source": [
    "## Au vu des futures jointures renommage des valeurs"
   ]
  },
  {
   "cell_type": "code",
   "execution_count": 21,
   "id": "ed58edbb",
   "metadata": {
    "canvas": {
     "comments": [],
     "componentType": "CodeCell",
     "copiedOriginId": null,
     "diskcache": false,
     "headerColor": "none",
     "id": "49f8df23-9f16-4584-9b2f-08fa28dd0b02",
     "isComponent": false,
     "name": "",
     "parents": []
    },
    "hidden": true
   },
   "outputs": [],
   "source": [
    "population['Zone'] = population['Zone'].replace(\"Chine - RAS de Hong-Kong\", \"Hong Kong\")\n",
    "population['Zone'] = population['Zone'].replace(\"Chine - RAS de Macao\", \"Macao\")\n",
    "population['Zone'] = population['Zone'].replace(\"Saint-Vincent-et-les Grenadines\", \"Saint-Vincent-et-les-Grenadines\")"
   ]
  },
  {
   "cell_type": "markdown",
   "id": "075180b9",
   "metadata": {
    "canvas": {
     "comments": [],
     "componentType": "CodeCell",
     "copiedOriginId": null,
     "diskcache": false,
     "headerColor": "none",
     "id": "06a67257-fb5b-4af1-b088-78d58f24dbef",
     "isComponent": false,
     "name": "",
     "parents": []
    },
    "heading_collapsed": true
   },
   "source": [
    "# **Dispo alimentaire**"
   ]
  },
  {
   "cell_type": "markdown",
   "id": "d1f2f4a2",
   "metadata": {
    "canvas": {
     "comments": [],
     "componentType": "CodeCell",
     "copiedOriginId": null,
     "diskcache": false,
     "headerColor": "none",
     "id": "5b2fc0bc-c86c-4681-9f99-bc0a1c05504c",
     "isComponent": false,
     "name": "",
     "parents": []
    },
    "heading_collapsed": true,
    "hidden": true
   },
   "source": [
    "## Remplacement des valeurs NaN par 0"
   ]
  },
  {
   "cell_type": "code",
   "execution_count": 22,
   "id": "349c027e",
   "metadata": {
    "canvas": {
     "comments": [],
     "componentType": "CodeCell",
     "copiedOriginId": null,
     "diskcache": false,
     "headerColor": "none",
     "id": "6702ab65-692a-453b-95b5-ee32b4a5effe",
     "isComponent": false,
     "name": "",
     "parents": []
    },
    "hidden": true
   },
   "outputs": [],
   "source": [
    "dispo_alim = dispo_alim.replace(np.nan, 0)"
   ]
  },
  {
   "cell_type": "code",
   "execution_count": 23,
   "id": "e7411880",
   "metadata": {
    "canvas": {
     "comments": [],
     "componentType": "CodeCell",
     "copiedOriginId": null,
     "diskcache": false,
     "headerColor": "none",
     "id": "0837997a-8d71-440f-bf40-0b0d830d6779",
     "isComponent": false,
     "name": "",
     "parents": []
    },
    "hidden": true
   },
   "outputs": [
    {
     "data": {
      "text/html": [
       "<div>\n",
       "<style scoped>\n",
       "    .dataframe tbody tr th:only-of-type {\n",
       "        vertical-align: middle;\n",
       "    }\n",
       "\n",
       "    .dataframe tbody tr th {\n",
       "        vertical-align: top;\n",
       "    }\n",
       "\n",
       "    .dataframe thead th {\n",
       "        text-align: right;\n",
       "    }\n",
       "</style>\n",
       "<table border=\"1\" class=\"dataframe\">\n",
       "  <thead>\n",
       "    <tr style=\"text-align: right;\">\n",
       "      <th></th>\n",
       "      <th>Zone</th>\n",
       "      <th>Produit</th>\n",
       "      <th>Origine</th>\n",
       "      <th>Aliments pour animaux</th>\n",
       "      <th>Autres Utilisations</th>\n",
       "      <th>Disponibilité alimentaire (Kcal/personne/jour)</th>\n",
       "      <th>Disponibilité alimentaire en quantité (kg/personne/an)</th>\n",
       "      <th>Disponibilité de matière grasse en quantité (g/personne/jour)</th>\n",
       "      <th>Disponibilité de protéines en quantité (g/personne/jour)</th>\n",
       "      <th>Disponibilité intérieure</th>\n",
       "      <th>Exportations - Quantité</th>\n",
       "      <th>Importations - Quantité</th>\n",
       "      <th>Nourriture</th>\n",
       "      <th>Pertes</th>\n",
       "      <th>Production</th>\n",
       "      <th>Semences</th>\n",
       "      <th>Traitement</th>\n",
       "      <th>Variation de stock</th>\n",
       "    </tr>\n",
       "  </thead>\n",
       "  <tbody>\n",
       "    <tr>\n",
       "      <th>9383</th>\n",
       "      <td>Mozambique</td>\n",
       "      <td>Oeufs</td>\n",
       "      <td>animale</td>\n",
       "      <td>0.0</td>\n",
       "      <td>0.0</td>\n",
       "      <td>6.0</td>\n",
       "      <td>1.70</td>\n",
       "      <td>0.39</td>\n",
       "      <td>0.48</td>\n",
       "      <td>51.0</td>\n",
       "      <td>0.0</td>\n",
       "      <td>6.0</td>\n",
       "      <td>44.0</td>\n",
       "      <td>5.0</td>\n",
       "      <td>45.0</td>\n",
       "      <td>2.0</td>\n",
       "      <td>0.0</td>\n",
       "      <td>0.0</td>\n",
       "    </tr>\n",
       "    <tr>\n",
       "      <th>3581</th>\n",
       "      <td>Congo</td>\n",
       "      <td>Dattes</td>\n",
       "      <td>vegetale</td>\n",
       "      <td>0.0</td>\n",
       "      <td>0.0</td>\n",
       "      <td>0.0</td>\n",
       "      <td>0.00</td>\n",
       "      <td>0.00</td>\n",
       "      <td>0.00</td>\n",
       "      <td>0.0</td>\n",
       "      <td>0.0</td>\n",
       "      <td>0.0</td>\n",
       "      <td>0.0</td>\n",
       "      <td>0.0</td>\n",
       "      <td>0.0</td>\n",
       "      <td>0.0</td>\n",
       "      <td>0.0</td>\n",
       "      <td>0.0</td>\n",
       "    </tr>\n",
       "    <tr>\n",
       "      <th>12878</th>\n",
       "      <td>Slovaquie</td>\n",
       "      <td>Thé</td>\n",
       "      <td>vegetale</td>\n",
       "      <td>0.0</td>\n",
       "      <td>0.0</td>\n",
       "      <td>0.0</td>\n",
       "      <td>0.19</td>\n",
       "      <td>0.00</td>\n",
       "      <td>0.03</td>\n",
       "      <td>1.0</td>\n",
       "      <td>0.0</td>\n",
       "      <td>1.0</td>\n",
       "      <td>1.0</td>\n",
       "      <td>0.0</td>\n",
       "      <td>0.0</td>\n",
       "      <td>0.0</td>\n",
       "      <td>0.0</td>\n",
       "      <td>0.0</td>\n",
       "    </tr>\n",
       "    <tr>\n",
       "      <th>10314</th>\n",
       "      <td>Oman</td>\n",
       "      <td>Poissons Pelagiques</td>\n",
       "      <td>animale</td>\n",
       "      <td>9.0</td>\n",
       "      <td>0.0</td>\n",
       "      <td>8.0</td>\n",
       "      <td>5.59</td>\n",
       "      <td>0.29</td>\n",
       "      <td>1.27</td>\n",
       "      <td>29.0</td>\n",
       "      <td>81.0</td>\n",
       "      <td>23.0</td>\n",
       "      <td>20.0</td>\n",
       "      <td>0.0</td>\n",
       "      <td>87.0</td>\n",
       "      <td>0.0</td>\n",
       "      <td>0.0</td>\n",
       "      <td>0.0</td>\n",
       "    </tr>\n",
       "    <tr>\n",
       "      <th>6798</th>\n",
       "      <td>Israël</td>\n",
       "      <td>Oignons</td>\n",
       "      <td>vegetale</td>\n",
       "      <td>0.0</td>\n",
       "      <td>0.0</td>\n",
       "      <td>13.0</td>\n",
       "      <td>11.82</td>\n",
       "      <td>0.06</td>\n",
       "      <td>0.39</td>\n",
       "      <td>96.0</td>\n",
       "      <td>0.0</td>\n",
       "      <td>12.0</td>\n",
       "      <td>91.0</td>\n",
       "      <td>5.0</td>\n",
       "      <td>84.0</td>\n",
       "      <td>0.0</td>\n",
       "      <td>0.0</td>\n",
       "      <td>0.0</td>\n",
       "    </tr>\n",
       "  </tbody>\n",
       "</table>\n",
       "</div>"
      ],
      "text/plain": [
       "             Zone              Produit   Origine  Aliments pour animaux  \\\n",
       "9383   Mozambique                Oeufs   animale                    0.0   \n",
       "3581        Congo               Dattes  vegetale                    0.0   \n",
       "12878   Slovaquie                  Thé  vegetale                    0.0   \n",
       "10314        Oman  Poissons Pelagiques   animale                    9.0   \n",
       "6798       Israël              Oignons  vegetale                    0.0   \n",
       "\n",
       "       Autres Utilisations  Disponibilité alimentaire (Kcal/personne/jour)  \\\n",
       "9383                   0.0                                             6.0   \n",
       "3581                   0.0                                             0.0   \n",
       "12878                  0.0                                             0.0   \n",
       "10314                  0.0                                             8.0   \n",
       "6798                   0.0                                            13.0   \n",
       "\n",
       "       Disponibilité alimentaire en quantité (kg/personne/an)  \\\n",
       "9383                                                1.70        \n",
       "3581                                                0.00        \n",
       "12878                                               0.19        \n",
       "10314                                               5.59        \n",
       "6798                                               11.82        \n",
       "\n",
       "       Disponibilité de matière grasse en quantité (g/personne/jour)  \\\n",
       "9383                                                0.39               \n",
       "3581                                                0.00               \n",
       "12878                                               0.00               \n",
       "10314                                               0.29               \n",
       "6798                                                0.06               \n",
       "\n",
       "       Disponibilité de protéines en quantité (g/personne/jour)  \\\n",
       "9383                                                0.48          \n",
       "3581                                                0.00          \n",
       "12878                                               0.03          \n",
       "10314                                               1.27          \n",
       "6798                                                0.39          \n",
       "\n",
       "       Disponibilité intérieure  Exportations - Quantité  \\\n",
       "9383                       51.0                      0.0   \n",
       "3581                        0.0                      0.0   \n",
       "12878                       1.0                      0.0   \n",
       "10314                      29.0                     81.0   \n",
       "6798                       96.0                      0.0   \n",
       "\n",
       "       Importations - Quantité  Nourriture  Pertes  Production  Semences  \\\n",
       "9383                       6.0        44.0     5.0        45.0       2.0   \n",
       "3581                       0.0         0.0     0.0         0.0       0.0   \n",
       "12878                      1.0         1.0     0.0         0.0       0.0   \n",
       "10314                     23.0        20.0     0.0        87.0       0.0   \n",
       "6798                      12.0        91.0     5.0        84.0       0.0   \n",
       "\n",
       "       Traitement  Variation de stock  \n",
       "9383          0.0                 0.0  \n",
       "3581          0.0                 0.0  \n",
       "12878         0.0                 0.0  \n",
       "10314         0.0                 0.0  \n",
       "6798          0.0                 0.0  "
      ]
     },
     "execution_count": 23,
     "metadata": {},
     "output_type": "execute_result"
    }
   ],
   "source": [
    "dispo_alim.sample(5)"
   ]
  },
  {
   "cell_type": "markdown",
   "id": "197c764c",
   "metadata": {
    "canvas": {
     "comments": [],
     "componentType": "CodeCell",
     "copiedOriginId": null,
     "diskcache": false,
     "headerColor": "none",
     "id": "5168897d-0054-4cac-a8e7-f237ddefe897",
     "isComponent": false,
     "name": "",
     "parents": []
    },
    "heading_collapsed": true,
    "hidden": true
   },
   "source": [
    "## Au vu des futures jointures renommage des valeurs"
   ]
  },
  {
   "cell_type": "code",
   "execution_count": 24,
   "id": "805d4fc2",
   "metadata": {
    "canvas": {
     "comments": [],
     "componentType": "CodeCell",
     "copiedOriginId": null,
     "diskcache": false,
     "headerColor": "none",
     "id": "066da13a-53a5-47fb-9e04-8b46324fa1fe",
     "isComponent": false,
     "name": "",
     "parents": []
    },
    "hidden": true
   },
   "outputs": [],
   "source": [
    "dispo_alim['Zone'] = dispo_alim['Zone'].replace(\"Chine - RAS de Hong-Kong\", \"Hong Kong\")\n",
    "dispo_alim['Zone'] = dispo_alim['Zone'].replace(\"Chine - RAS de Macao\", \"Macao\")\n",
    "dispo_alim['Zone'] = dispo_alim['Zone'].replace(\"Royaume-Uni\", \"Royaume-Uni de Grande-Bretagne et d'Irlande du Nord\")\n",
    "dispo_alim['Zone'] = dispo_alim['Zone'].replace(\"Saint-Vincent-et-les Grenadines\", \"Saint-Vincent-et-les-Grenadines\")\n",
    "dispo_alim['Zone'] = dispo_alim['Zone'].replace(\"Tchéquie (la)\", \"Tchéquie\")"
   ]
  },
  {
   "cell_type": "markdown",
   "id": "0176d9b0",
   "metadata": {
    "canvas": {
     "comments": [],
     "componentType": "CodeCell",
     "copiedOriginId": null,
     "diskcache": false,
     "headerColor": "none",
     "id": "f2fd6091-3257-41e5-9e67-ec48e0001930",
     "isComponent": false,
     "name": "",
     "parents": []
    },
    "heading_collapsed": true,
    "hidden": true
   },
   "source": [
    "## Mise en commun des échelles"
   ]
  },
  {
   "cell_type": "code",
   "execution_count": 25,
   "id": "e13ef14e",
   "metadata": {
    "canvas": {
     "comments": [],
     "componentType": "CodeCell",
     "copiedOriginId": null,
     "diskcache": false,
     "headerColor": "none",
     "id": "a6810f24-a9d0-4838-a83d-75be70b99b7a",
     "isComponent": false,
     "name": "",
     "parents": []
    },
    "hidden": true
   },
   "outputs": [],
   "source": [
    "col = ['Aliments pour animaux', 'Autres Utilisations', 'Disponibilité intérieure', 'Exportations - Quantité', \n",
    "       'Importations - Quantité', 'Nourriture', 'Pertes', 'Production', 'Semences', \n",
    "       'Traitement', \n",
    "       'Variation de stock']\n",
    "\n",
    "for i in col:\n",
    "    dispo_alim[[i]] = dispo_alim[[i]] * 1000000\n",
    "    \n",
    "# dispo_alim[col] = dispo_alim[col].apply(lambda x: x * 1000000)"
   ]
  },
  {
   "cell_type": "code",
   "execution_count": 26,
   "id": "cbacc6ed",
   "metadata": {
    "canvas": {
     "comments": [],
     "componentType": "CodeCell",
     "copiedOriginId": null,
     "diskcache": false,
     "headerColor": "none",
     "id": "e74f9484-950e-4d47-b5dd-95f74ca7c538",
     "isComponent": false,
     "name": "",
     "parents": []
    },
    "hidden": true
   },
   "outputs": [
    {
     "data": {
      "text/html": [
       "<div>\n",
       "<style scoped>\n",
       "    .dataframe tbody tr th:only-of-type {\n",
       "        vertical-align: middle;\n",
       "    }\n",
       "\n",
       "    .dataframe tbody tr th {\n",
       "        vertical-align: top;\n",
       "    }\n",
       "\n",
       "    .dataframe thead th {\n",
       "        text-align: right;\n",
       "    }\n",
       "</style>\n",
       "<table border=\"1\" class=\"dataframe\">\n",
       "  <thead>\n",
       "    <tr style=\"text-align: right;\">\n",
       "      <th></th>\n",
       "      <th>Zone</th>\n",
       "      <th>Produit</th>\n",
       "      <th>Origine</th>\n",
       "      <th>Aliments pour animaux</th>\n",
       "      <th>Autres Utilisations</th>\n",
       "      <th>Disponibilité alimentaire (Kcal/personne/jour)</th>\n",
       "      <th>Disponibilité alimentaire en quantité (kg/personne/an)</th>\n",
       "      <th>Disponibilité de matière grasse en quantité (g/personne/jour)</th>\n",
       "      <th>Disponibilité de protéines en quantité (g/personne/jour)</th>\n",
       "      <th>Disponibilité intérieure</th>\n",
       "      <th>Exportations - Quantité</th>\n",
       "      <th>Importations - Quantité</th>\n",
       "      <th>Nourriture</th>\n",
       "      <th>Pertes</th>\n",
       "      <th>Production</th>\n",
       "      <th>Semences</th>\n",
       "      <th>Traitement</th>\n",
       "      <th>Variation de stock</th>\n",
       "    </tr>\n",
       "  </thead>\n",
       "  <tbody>\n",
       "    <tr>\n",
       "      <th>0</th>\n",
       "      <td>Afghanistan</td>\n",
       "      <td>Abats Comestible</td>\n",
       "      <td>animale</td>\n",
       "      <td>0.0</td>\n",
       "      <td>0.0</td>\n",
       "      <td>5.0</td>\n",
       "      <td>1.72</td>\n",
       "      <td>0.20</td>\n",
       "      <td>0.77</td>\n",
       "      <td>53000000.0</td>\n",
       "      <td>0.0</td>\n",
       "      <td>0.0</td>\n",
       "      <td>53000000.0</td>\n",
       "      <td>0.0</td>\n",
       "      <td>53000000.0</td>\n",
       "      <td>0.0</td>\n",
       "      <td>0.0</td>\n",
       "      <td>0.0</td>\n",
       "    </tr>\n",
       "    <tr>\n",
       "      <th>1</th>\n",
       "      <td>Afghanistan</td>\n",
       "      <td>Agrumes, Autres</td>\n",
       "      <td>vegetale</td>\n",
       "      <td>0.0</td>\n",
       "      <td>0.0</td>\n",
       "      <td>1.0</td>\n",
       "      <td>1.29</td>\n",
       "      <td>0.01</td>\n",
       "      <td>0.02</td>\n",
       "      <td>41000000.0</td>\n",
       "      <td>2000000.0</td>\n",
       "      <td>40000000.0</td>\n",
       "      <td>39000000.0</td>\n",
       "      <td>2000000.0</td>\n",
       "      <td>3000000.0</td>\n",
       "      <td>0.0</td>\n",
       "      <td>0.0</td>\n",
       "      <td>0.0</td>\n",
       "    </tr>\n",
       "    <tr>\n",
       "      <th>2</th>\n",
       "      <td>Afghanistan</td>\n",
       "      <td>Aliments pour enfants</td>\n",
       "      <td>vegetale</td>\n",
       "      <td>0.0</td>\n",
       "      <td>0.0</td>\n",
       "      <td>1.0</td>\n",
       "      <td>0.06</td>\n",
       "      <td>0.01</td>\n",
       "      <td>0.03</td>\n",
       "      <td>2000000.0</td>\n",
       "      <td>0.0</td>\n",
       "      <td>2000000.0</td>\n",
       "      <td>2000000.0</td>\n",
       "      <td>0.0</td>\n",
       "      <td>0.0</td>\n",
       "      <td>0.0</td>\n",
       "      <td>0.0</td>\n",
       "      <td>0.0</td>\n",
       "    </tr>\n",
       "    <tr>\n",
       "      <th>3</th>\n",
       "      <td>Afghanistan</td>\n",
       "      <td>Ananas</td>\n",
       "      <td>vegetale</td>\n",
       "      <td>0.0</td>\n",
       "      <td>0.0</td>\n",
       "      <td>0.0</td>\n",
       "      <td>0.00</td>\n",
       "      <td>0.00</td>\n",
       "      <td>0.00</td>\n",
       "      <td>0.0</td>\n",
       "      <td>0.0</td>\n",
       "      <td>0.0</td>\n",
       "      <td>0.0</td>\n",
       "      <td>0.0</td>\n",
       "      <td>0.0</td>\n",
       "      <td>0.0</td>\n",
       "      <td>0.0</td>\n",
       "      <td>0.0</td>\n",
       "    </tr>\n",
       "    <tr>\n",
       "      <th>4</th>\n",
       "      <td>Afghanistan</td>\n",
       "      <td>Bananes</td>\n",
       "      <td>vegetale</td>\n",
       "      <td>0.0</td>\n",
       "      <td>0.0</td>\n",
       "      <td>4.0</td>\n",
       "      <td>2.70</td>\n",
       "      <td>0.02</td>\n",
       "      <td>0.05</td>\n",
       "      <td>82000000.0</td>\n",
       "      <td>0.0</td>\n",
       "      <td>82000000.0</td>\n",
       "      <td>82000000.0</td>\n",
       "      <td>0.0</td>\n",
       "      <td>0.0</td>\n",
       "      <td>0.0</td>\n",
       "      <td>0.0</td>\n",
       "      <td>0.0</td>\n",
       "    </tr>\n",
       "  </tbody>\n",
       "</table>\n",
       "</div>"
      ],
      "text/plain": [
       "          Zone                Produit   Origine  Aliments pour animaux  \\\n",
       "0  Afghanistan       Abats Comestible   animale                    0.0   \n",
       "1  Afghanistan        Agrumes, Autres  vegetale                    0.0   \n",
       "2  Afghanistan  Aliments pour enfants  vegetale                    0.0   \n",
       "3  Afghanistan                 Ananas  vegetale                    0.0   \n",
       "4  Afghanistan                Bananes  vegetale                    0.0   \n",
       "\n",
       "   Autres Utilisations  Disponibilité alimentaire (Kcal/personne/jour)  \\\n",
       "0                  0.0                                             5.0   \n",
       "1                  0.0                                             1.0   \n",
       "2                  0.0                                             1.0   \n",
       "3                  0.0                                             0.0   \n",
       "4                  0.0                                             4.0   \n",
       "\n",
       "   Disponibilité alimentaire en quantité (kg/personne/an)  \\\n",
       "0                                               1.72        \n",
       "1                                               1.29        \n",
       "2                                               0.06        \n",
       "3                                               0.00        \n",
       "4                                               2.70        \n",
       "\n",
       "   Disponibilité de matière grasse en quantité (g/personne/jour)  \\\n",
       "0                                               0.20               \n",
       "1                                               0.01               \n",
       "2                                               0.01               \n",
       "3                                               0.00               \n",
       "4                                               0.02               \n",
       "\n",
       "   Disponibilité de protéines en quantité (g/personne/jour)  \\\n",
       "0                                               0.77          \n",
       "1                                               0.02          \n",
       "2                                               0.03          \n",
       "3                                               0.00          \n",
       "4                                               0.05          \n",
       "\n",
       "   Disponibilité intérieure  Exportations - Quantité  Importations - Quantité  \\\n",
       "0                53000000.0                      0.0                      0.0   \n",
       "1                41000000.0                2000000.0               40000000.0   \n",
       "2                 2000000.0                      0.0                2000000.0   \n",
       "3                       0.0                      0.0                      0.0   \n",
       "4                82000000.0                      0.0               82000000.0   \n",
       "\n",
       "   Nourriture     Pertes  Production  Semences  Traitement  Variation de stock  \n",
       "0  53000000.0        0.0  53000000.0       0.0         0.0                 0.0  \n",
       "1  39000000.0  2000000.0   3000000.0       0.0         0.0                 0.0  \n",
       "2   2000000.0        0.0         0.0       0.0         0.0                 0.0  \n",
       "3         0.0        0.0         0.0       0.0         0.0                 0.0  \n",
       "4  82000000.0        0.0         0.0       0.0         0.0                 0.0  "
      ]
     },
     "execution_count": 26,
     "metadata": {},
     "output_type": "execute_result"
    }
   ],
   "source": [
    "dispo_alim.head(5)"
   ]
  },
  {
   "cell_type": "markdown",
   "id": "3850e7db",
   "metadata": {
    "canvas": {
     "comments": [],
     "componentType": "CodeCell",
     "copiedOriginId": null,
     "diskcache": false,
     "headerColor": "none",
     "id": "f2f8a556-2a1e-4054-b31b-db5539a13e25",
     "isComponent": false,
     "name": "",
     "parents": []
    },
    "heading_collapsed": true
   },
   "source": [
    "# **Aide alimentaire**"
   ]
  },
  {
   "cell_type": "markdown",
   "id": "171ecfdd",
   "metadata": {
    "canvas": {
     "comments": [],
     "componentType": "CodeCell",
     "copiedOriginId": null,
     "diskcache": false,
     "headerColor": "none",
     "id": "38529dd4-29a6-4ba3-a078-1fe57b299a31",
     "isComponent": false,
     "name": "",
     "parents": []
    },
    "heading_collapsed": true,
    "hidden": true
   },
   "source": [
    "## Mise en commun des échelles"
   ]
  },
  {
   "cell_type": "code",
   "execution_count": 27,
   "id": "bd843919",
   "metadata": {
    "canvas": {
     "comments": [],
     "componentType": "CodeCell",
     "copiedOriginId": null,
     "diskcache": false,
     "headerColor": "none",
     "id": "5239a995-037a-4470-ab17-aa69282bc684",
     "isComponent": false,
     "name": "",
     "parents": []
    },
    "hidden": true
   },
   "outputs": [],
   "source": [
    "aide_alim['Valeur'] = aide_alim['Valeur'] * 1000"
   ]
  },
  {
   "cell_type": "code",
   "execution_count": 28,
   "id": "3a8a4b81",
   "metadata": {
    "canvas": {
     "comments": [],
     "componentType": "CodeCell",
     "copiedOriginId": null,
     "diskcache": false,
     "headerColor": "none",
     "id": "1dc28d1e-85f9-4dae-b411-5b01c5e9c19d",
     "isComponent": false,
     "name": "",
     "parents": []
    },
    "hidden": true
   },
   "outputs": [
    {
     "data": {
      "text/html": [
       "<div>\n",
       "<style scoped>\n",
       "    .dataframe tbody tr th:only-of-type {\n",
       "        vertical-align: middle;\n",
       "    }\n",
       "\n",
       "    .dataframe tbody tr th {\n",
       "        vertical-align: top;\n",
       "    }\n",
       "\n",
       "    .dataframe thead th {\n",
       "        text-align: right;\n",
       "    }\n",
       "</style>\n",
       "<table border=\"1\" class=\"dataframe\">\n",
       "  <thead>\n",
       "    <tr style=\"text-align: right;\">\n",
       "      <th></th>\n",
       "      <th>Pays bénéficiaire</th>\n",
       "      <th>Année</th>\n",
       "      <th>Produit</th>\n",
       "      <th>Valeur</th>\n",
       "    </tr>\n",
       "  </thead>\n",
       "  <tbody>\n",
       "    <tr>\n",
       "      <th>34</th>\n",
       "      <td>Algérie</td>\n",
       "      <td>2015</td>\n",
       "      <td>Lait, total</td>\n",
       "      <td>500000</td>\n",
       "    </tr>\n",
       "    <tr>\n",
       "      <th>1010</th>\n",
       "      <td>République arabe syrienne</td>\n",
       "      <td>2014</td>\n",
       "      <td>BulgurFarEnt</td>\n",
       "      <td>47816000</td>\n",
       "    </tr>\n",
       "    <tr>\n",
       "      <th>682</th>\n",
       "      <td>Lesotho</td>\n",
       "      <td>2015</td>\n",
       "      <td>Sucre, total</td>\n",
       "      <td>125000</td>\n",
       "    </tr>\n",
       "    <tr>\n",
       "      <th>1404</th>\n",
       "      <td>Togo</td>\n",
       "      <td>2013</td>\n",
       "      <td>Autres non-céréales</td>\n",
       "      <td>2000</td>\n",
       "    </tr>\n",
       "    <tr>\n",
       "      <th>465</th>\n",
       "      <td>Guinée</td>\n",
       "      <td>2013</td>\n",
       "      <td>Autres non-céréales</td>\n",
       "      <td>57000</td>\n",
       "    </tr>\n",
       "  </tbody>\n",
       "</table>\n",
       "</div>"
      ],
      "text/plain": [
       "              Pays bénéficiaire  Année              Produit    Valeur\n",
       "34                      Algérie   2015          Lait, total    500000\n",
       "1010  République arabe syrienne   2014         BulgurFarEnt  47816000\n",
       "682                     Lesotho   2015         Sucre, total    125000\n",
       "1404                       Togo   2013  Autres non-céréales      2000\n",
       "465                      Guinée   2013  Autres non-céréales     57000"
      ]
     },
     "execution_count": 28,
     "metadata": {},
     "output_type": "execute_result"
    }
   ],
   "source": [
    "aide_alim.sample(5)"
   ]
  },
  {
   "cell_type": "markdown",
   "id": "3fbd4aab",
   "metadata": {
    "canvas": {
     "comments": [],
     "componentType": "CodeCell",
     "copiedOriginId": null,
     "diskcache": false,
     "headerColor": "none",
     "id": "858610c0-9899-4a1a-bda0-18ad76235b3d",
     "isComponent": false,
     "name": "",
     "parents": []
    },
    "heading_collapsed": true,
    "hidden": true
   },
   "source": [
    "## Pour une meilleure lisibilité renommage de la colonne \"Valeur\" en \"Quantité\""
   ]
  },
  {
   "cell_type": "code",
   "execution_count": 29,
   "id": "44707da1",
   "metadata": {
    "canvas": {
     "comments": [],
     "componentType": "CodeCell",
     "copiedOriginId": null,
     "diskcache": false,
     "headerColor": "none",
     "id": "fa92a357-104f-4d94-9078-2db9b14e4461",
     "isComponent": false,
     "name": "",
     "parents": []
    },
    "hidden": true
   },
   "outputs": [],
   "source": [
    "aide_alim.rename(columns = {'Valeur': 'Quantité'}, inplace=True)"
   ]
  },
  {
   "cell_type": "code",
   "execution_count": 30,
   "id": "0a782a9c",
   "metadata": {
    "canvas": {
     "comments": [],
     "componentType": "CodeCell",
     "copiedOriginId": null,
     "diskcache": false,
     "headerColor": "none",
     "id": "9a9f6f20-96d3-49d4-93a2-ec30d1c04cdb",
     "isComponent": false,
     "name": "",
     "parents": []
    },
    "hidden": true
   },
   "outputs": [
    {
     "data": {
      "text/html": [
       "<div>\n",
       "<style scoped>\n",
       "    .dataframe tbody tr th:only-of-type {\n",
       "        vertical-align: middle;\n",
       "    }\n",
       "\n",
       "    .dataframe tbody tr th {\n",
       "        vertical-align: top;\n",
       "    }\n",
       "\n",
       "    .dataframe thead th {\n",
       "        text-align: right;\n",
       "    }\n",
       "</style>\n",
       "<table border=\"1\" class=\"dataframe\">\n",
       "  <thead>\n",
       "    <tr style=\"text-align: right;\">\n",
       "      <th></th>\n",
       "      <th>Pays bénéficiaire</th>\n",
       "      <th>Année</th>\n",
       "      <th>Produit</th>\n",
       "      <th>Quantité</th>\n",
       "    </tr>\n",
       "  </thead>\n",
       "  <tbody>\n",
       "    <tr>\n",
       "      <th>499</th>\n",
       "      <td>Guinée-Bissau</td>\n",
       "      <td>2015</td>\n",
       "      <td>Légumineuses Sèches,Tot.</td>\n",
       "      <td>275000</td>\n",
       "    </tr>\n",
       "    <tr>\n",
       "      <th>379</th>\n",
       "      <td>Éthiopie</td>\n",
       "      <td>2013</td>\n",
       "      <td>Non-céréales</td>\n",
       "      <td>39506000</td>\n",
       "    </tr>\n",
       "    <tr>\n",
       "      <th>196</th>\n",
       "      <td>Cameroun</td>\n",
       "      <td>2013</td>\n",
       "      <td>Céréales Secondaires</td>\n",
       "      <td>968000</td>\n",
       "    </tr>\n",
       "    <tr>\n",
       "      <th>242</th>\n",
       "      <td>Comores</td>\n",
       "      <td>2013</td>\n",
       "      <td>Céréales</td>\n",
       "      <td>3903000</td>\n",
       "    </tr>\n",
       "    <tr>\n",
       "      <th>455</th>\n",
       "      <td>Guatemala</td>\n",
       "      <td>2014</td>\n",
       "      <td>Mélanges et préparations</td>\n",
       "      <td>1720000</td>\n",
       "    </tr>\n",
       "  </tbody>\n",
       "</table>\n",
       "</div>"
      ],
      "text/plain": [
       "    Pays bénéficiaire  Année                   Produit  Quantité\n",
       "499     Guinée-Bissau   2015  Légumineuses Sèches,Tot.    275000\n",
       "379          Éthiopie   2013              Non-céréales  39506000\n",
       "196          Cameroun   2013      Céréales Secondaires    968000\n",
       "242           Comores   2013                  Céréales   3903000\n",
       "455         Guatemala   2014  Mélanges et préparations   1720000"
      ]
     },
     "execution_count": 30,
     "metadata": {},
     "output_type": "execute_result"
    }
   ],
   "source": [
    "aide_alim.sample(5)"
   ]
  },
  {
   "cell_type": "markdown",
   "id": "3eabffad",
   "metadata": {
    "canvas": {
     "comments": [],
     "componentType": "CodeCell",
     "copiedOriginId": null,
     "diskcache": false,
     "headerColor": "none",
     "id": "525b0750-f79f-4963-8ca6-ddf1c9cdc47e",
     "isComponent": false,
     "name": "",
     "parents": []
    },
    "heading_collapsed": true,
    "hidden": true
   },
   "source": [
    "## Au vu des futures jointures renommage des colonnes en noms uniques"
   ]
  },
  {
   "cell_type": "code",
   "execution_count": 31,
   "id": "82d0d0b0",
   "metadata": {
    "canvas": {
     "comments": [],
     "componentType": "CodeCell",
     "copiedOriginId": null,
     "diskcache": false,
     "headerColor": "none",
     "id": "e526f6f5-df5f-475a-9cb4-77ab06300c5a",
     "isComponent": false,
     "name": "",
     "parents": []
    },
    "hidden": true
   },
   "outputs": [],
   "source": [
    "aide_alim.rename(columns = {'Pays bénéficiaire': 'Zone'}, inplace=True)"
   ]
  },
  {
   "cell_type": "markdown",
   "id": "a64ae008",
   "metadata": {
    "canvas": {
     "comments": [],
     "componentType": "CodeCell",
     "copiedOriginId": null,
     "diskcache": false,
     "headerColor": "none",
     "id": "7403790a-1ad5-4fdd-9ea5-43bbeafb5c18",
     "isComponent": false,
     "name": "",
     "parents": []
    },
    "heading_collapsed": true,
    "hidden": true
   },
   "source": [
    "## Au vu des futures jointures renommage des valeurs"
   ]
  },
  {
   "cell_type": "code",
   "execution_count": 32,
   "id": "c11d15ae",
   "metadata": {
    "canvas": {
     "comments": [],
     "componentType": "CodeCell",
     "copiedOriginId": null,
     "diskcache": false,
     "headerColor": "none",
     "id": "85c35b97-1f2e-4c7c-8e88-5a6c7cf2b728",
     "isComponent": false,
     "name": "",
     "parents": []
    },
    "hidden": true
   },
   "outputs": [],
   "source": [
    "aide_alim['Zone'] = aide_alim['Zone'].replace('Swaziland', 'Eswatini')"
   ]
  },
  {
   "cell_type": "markdown",
   "id": "933866bb",
   "metadata": {
    "canvas": {
     "comments": [],
     "componentType": "CodeCell",
     "copiedOriginId": null,
     "diskcache": false,
     "headerColor": "none",
     "id": "e98b5d46-b953-4385-bdb1-70e65771bdf1",
     "isComponent": false,
     "name": "",
     "parents": []
    },
    "heading_collapsed": true
   },
   "source": [
    "# **Fichier pays ISO**"
   ]
  },
  {
   "cell_type": "markdown",
   "id": "f060f882",
   "metadata": {
    "canvas": {
     "comments": [],
     "componentType": "CodeCell",
     "copiedOriginId": null,
     "diskcache": false,
     "headerColor": "none",
     "id": "a4e0c7ba-45c6-462d-af54-b068015f8ce6",
     "isComponent": false,
     "name": "",
     "parents": []
    },
    "heading_collapsed": true,
    "hidden": true
   },
   "source": [
    "## Au vu des futures jointures renommage des valeurs"
   ]
  },
  {
   "cell_type": "code",
   "execution_count": 33,
   "id": "63e1c302",
   "metadata": {
    "canvas": {
     "comments": [],
     "componentType": "CodeCell",
     "copiedOriginId": null,
     "diskcache": false,
     "headerColor": "none",
     "id": "3f393fc7-b605-4bd1-bba3-5f4210ad354e",
     "isComponent": false,
     "name": "",
     "parents": []
    },
    "hidden": true
   },
   "outputs": [],
   "source": [
    "iso['NOM'] = iso['NOM'].replace('Taiwan', 'Chine, Taiwan Province de')\n",
    "iso['NOM'] = iso['NOM'].replace('Chine', 'Chine, continentale')"
   ]
  },
  {
   "cell_type": "markdown",
   "id": "73160fad",
   "metadata": {
    "canvas": {
     "comments": [],
     "componentType": "CodeCell",
     "copiedOriginId": null,
     "diskcache": false,
     "headerColor": "none",
     "id": "dcd7c645-352c-4968-bac9-e63cc259114e",
     "isComponent": false,
     "name": "",
     "parents": []
    },
    "heading_collapsed": true,
    "hidden": true
   },
   "source": [
    "## Au vu des futures jointures renommage des colonnes en noms uniques"
   ]
  },
  {
   "cell_type": "code",
   "execution_count": 34,
   "id": "693fec0a",
   "metadata": {
    "canvas": {
     "comments": [],
     "componentType": "CodeCell",
     "copiedOriginId": null,
     "diskcache": false,
     "headerColor": "none",
     "id": "6cb597d1-d7b9-4b81-adae-980348e8a638",
     "isComponent": false,
     "name": "",
     "parents": []
    },
    "hidden": true
   },
   "outputs": [],
   "source": [
    "iso.rename(columns = {'NOM': 'Zone'}, inplace=True)"
   ]
  },
  {
   "cell_type": "markdown",
   "id": "e766729a",
   "metadata": {
    "canvas": {
     "comments": [],
     "componentType": "CodeCell",
     "copiedOriginId": null,
     "diskcache": false,
     "headerColor": "none",
     "id": "379c7ac2-afd1-407f-b14d-87e26738953e",
     "isComponent": false,
     "name": "",
     "parents": []
    },
    "heading_collapsed": true,
    "hidden": true
   },
   "source": [
    "## Au vu des futures jointures rajout de valeurs"
   ]
  },
  {
   "cell_type": "code",
   "execution_count": 35,
   "id": "21022830",
   "metadata": {
    "canvas": {
     "comments": [],
     "componentType": "CodeCell",
     "copiedOriginId": null,
     "diskcache": false,
     "headerColor": "none",
     "id": "e8794e28-4ef2-47cd-b512-f5b527f42180",
     "isComponent": false,
     "name": "",
     "parents": []
    },
    "hidden": true
   },
   "outputs": [],
   "source": [
    "new_elements = [('Bermudes', 'BMU'), (\"Hong Kong\", \"HKG\"), (\"Macao\", \"MAC\"), (\"Saint-Kitts-et-Nevis\", 'KNA')]\n",
    "new_iso_data = pd.DataFrame(new_elements, columns = ['Zone' , 'CODE'])\n",
    "iso = pd.concat([iso, new_iso_data])"
   ]
  },
  {
   "cell_type": "markdown",
   "id": "65691f72",
   "metadata": {
    "canvas": {
     "comments": [],
     "componentType": "CodeCell",
     "copiedOriginId": null,
     "diskcache": false,
     "headerColor": "none",
     "id": "bc35c217-79d2-4b65-a335-6652582f6513",
     "isComponent": false,
     "name": "",
     "parents": []
    },
    "heading_collapsed": true
   },
   "source": [
    "# **Exportation des fichiers nettoyés vers un nouveau CSV**"
   ]
  },
  {
   "cell_type": "code",
   "execution_count": 36,
   "id": "47a1284f",
   "metadata": {
    "canvas": {
     "comments": [],
     "componentType": "CodeCell",
     "copiedOriginId": null,
     "diskcache": false,
     "headerColor": "none",
     "id": "f9621660-9c50-4960-ba14-53471fa40da6",
     "isComponent": false,
     "name": "",
     "parents": []
    },
    "hidden": true
   },
   "outputs": [
    {
     "name": "stdout",
     "output_type": "stream",
     "text": [
      "Exportation terminée\n"
     ]
    }
   ],
   "source": [
    "aide_alim.to_csv('src/aide_alimentaire_cleaned.csv', index=False) \n",
    "dispo_alim.to_csv('src/dispo_alimentaire_cleaned.csv', index=False) \n",
    "population.to_csv('src/population_cleaned.csv', index=False) \n",
    "sous_nutrition.to_csv('src/sous_nutrition_cleaned.csv', index=False)\n",
    "iso.to_csv('src/iso_gouv_cleaned.csv', index=False)\n",
    "print(\"Exportation terminée\")"
   ]
  }
 ],
 "metadata": {
  "canvas": {
   "colorPalette": [
    "inherit",
    "inherit",
    "inherit",
    "inherit",
    "inherit",
    "inherit",
    "inherit",
    "inherit",
    "inherit",
    "inherit"
   ],
   "parameters": [],
   "version": "1.0"
  },
  "kernelspec": {
   "display_name": "Python 3 (ipykernel)",
   "language": "python",
   "name": "python3"
  },
  "language_info": {
   "codemirror_mode": {
    "name": "ipython",
    "version": 3
   },
   "file_extension": ".py",
   "mimetype": "text/x-python",
   "name": "python",
   "nbconvert_exporter": "python",
   "pygments_lexer": "ipython3",
   "version": "3.9.13"
  },
  "toc": {
   "base_numbering": 1,
   "nav_menu": {},
   "number_sections": true,
   "sideBar": true,
   "skip_h1_title": false,
   "title_cell": "Table of Contents",
   "title_sidebar": "Contents",
   "toc_cell": false,
   "toc_position": {
    "height": "calc(100% - 180px)",
    "left": "10px",
    "top": "150px",
    "width": "464.59375px"
   },
   "toc_section_display": true,
   "toc_window_display": true
  },
  "varInspector": {
   "cols": {
    "lenName": 16,
    "lenType": 16,
    "lenVar": 40
   },
   "kernels_config": {
    "python": {
     "delete_cmd_postfix": "",
     "delete_cmd_prefix": "del ",
     "library": "var_list.py",
     "varRefreshCmd": "print(var_dic_list())"
    },
    "r": {
     "delete_cmd_postfix": ") ",
     "delete_cmd_prefix": "rm(",
     "library": "var_list.r",
     "varRefreshCmd": "cat(var_dic_list()) "
    }
   },
   "position": {
    "height": "909px",
    "left": "1638px",
    "right": "20px",
    "top": "112px",
    "width": "390px"
   },
   "types_to_exclude": [
    "module",
    "function",
    "builtin_function_or_method",
    "instance",
    "_Feature"
   ],
   "window_display": true
  }
 },
 "nbformat": 4,
 "nbformat_minor": 5
}
