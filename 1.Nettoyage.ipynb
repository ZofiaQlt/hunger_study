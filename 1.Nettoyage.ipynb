{
 "cells": [
  {
   "cell_type": "markdown",
   "id": "900ee0cf",
   "metadata": {
    "canvas": {
     "comments": [],
     "componentType": "CodeCell",
     "copiedOriginId": null,
     "diskcache": false,
     "headerColor": "none",
     "id": "72df450a-a287-416f-a73b-3babb7899893",
     "isComponent": false,
     "name": "",
     "parents": []
    },
    "tags": []
   },
   "source": [
    "<img src=\"img/logo_FAO.png\">"
   ]
  },
  {
   "cell_type": "markdown",
   "id": "88c8344d",
   "metadata": {
    "canvas": {
     "comments": [],
     "componentType": "CodeCell",
     "copiedOriginId": null,
     "diskcache": false,
     "headerColor": "none",
     "id": "806889ed-644f-4f7b-bf78-d113b947ad57",
     "isComponent": false,
     "name": "",
     "parents": []
    }
   },
   "source": [
    "*L’Organisation pour l’alimentation et l’agriculture (FAO) est l’agence spécialisée des Nations Unies qui mène les efforts internationaux vers l’élimination de la faim. Son objectif est d’atteindre la sécurité alimentaire pour tous et d’assurer un accès régulier et suffisant à une nourriture de bonne qualité permettant à tous, de mener une vie saine et active. Avec 195 membres - 194 pays et l'Union européenne, la FAO est active dans 130 pays à travers le monde.*\n",
    "\n",
    "*Dans le présent rapport je vais vous présenter le nettoyage des données sur la sous-nutrition dans le monde depuis 2013.*"
   ]
  },
  {
   "cell_type": "markdown",
   "id": "67c9761f",
   "metadata": {
    "canvas": {
     "comments": [],
     "componentType": "CodeCell",
     "copiedOriginId": null,
     "diskcache": false,
     "headerColor": "none",
     "id": "bbac5607-6bf5-44bb-9762-a72715a33a07",
     "isComponent": false,
     "name": "",
     "parents": []
    },
    "heading_collapsed": true
   },
   "source": [
    "# Chargement des librairies"
   ]
  },
  {
   "cell_type": "code",
   "execution_count": 1,
   "id": "68ee9108",
   "metadata": {
    "canvas": {
     "comments": [],
     "componentType": "CodeCell",
     "copiedOriginId": null,
     "diskcache": false,
     "headerColor": "none",
     "id": "c6453cf8-32b7-4490-90a3-434fec7ca71c",
     "isComponent": false,
     "name": "",
     "parents": []
    },
    "hidden": true
   },
   "outputs": [
    {
     "name": "stdout",
     "output_type": "stream",
     "text": [
      "Version numpy : 1.23.5\n",
      "Version pandas : 1.4.4\n"
     ]
    }
   ],
   "source": [
    "import numpy as np\n",
    "import pandas as pd\n",
    "\n",
    "print(\"Version numpy : \" + np.__version__)\n",
    "print(\"Version pandas : \" + pd.__version__)\n",
    "\n",
    "chemin_aide_alim = 'src/aide_alimentaire.csv'\n",
    "chemin_dispo_alim = 'src/dispo_alimentaire.csv'\n",
    "chemin_pop = 'src/population.csv'\n",
    "chemin_sous_nut = 'src/sous_nutrition.csv'\n",
    "chemin_iso = 'src/iso_gouv.csv'"
   ]
  },
  {
   "cell_type": "markdown",
   "id": "6ac24730",
   "metadata": {
    "canvas": {
     "comments": [],
     "componentType": "CodeCell",
     "copiedOriginId": null,
     "diskcache": false,
     "headerColor": "none",
     "id": "2ea3de6a-fe5a-4d40-a63f-a5c2d2bad25d",
     "isComponent": false,
     "name": "",
     "parents": []
    },
    "heading_collapsed": true
   },
   "source": [
    "# Chargement des fichiers .csv"
   ]
  },
  {
   "cell_type": "code",
   "execution_count": 2,
   "id": "b4015a84",
   "metadata": {
    "canvas": {
     "comments": [],
     "componentType": "CodeCell",
     "copiedOriginId": null,
     "diskcache": false,
     "headerColor": "none",
     "id": "fea81cc5-f4f2-4d57-aa24-4c0db3444b06",
     "isComponent": false,
     "name": "",
     "parents": []
    },
    "hidden": true
   },
   "outputs": [],
   "source": [
    "aide_alim = pd.read_csv(chemin_aide_alim)\n",
    "dispo_alim = pd.read_csv(chemin_dispo_alim)\n",
    "population = pd.read_csv(chemin_pop)\n",
    "sous_nutrition = pd.read_csv(chemin_sous_nut)\n",
    "iso = pd.read_csv(chemin_iso, sep=\";\")"
   ]
  },
  {
   "cell_type": "markdown",
   "id": "a297f58c",
   "metadata": {
    "canvas": {
     "comments": [],
     "componentType": "CodeCell",
     "copiedOriginId": null,
     "diskcache": false,
     "headerColor": "none",
     "id": "0c49e728-aef1-43e7-a7f7-85776ea50648",
     "isComponent": false,
     "name": "",
     "parents": []
    },
    "heading_collapsed": true
   },
   "source": [
    "# **Sous-nutrition**"
   ]
  },
  {
   "cell_type": "markdown",
   "id": "dc9372dc",
   "metadata": {
    "canvas": {
     "comments": [],
     "componentType": "CodeCell",
     "copiedOriginId": null,
     "diskcache": false,
     "headerColor": "none",
     "id": "c49e133b-75fb-422f-859a-a45636cd7a20",
     "isComponent": false,
     "name": "",
     "parents": []
    },
    "heading_collapsed": true,
    "hidden": true
   },
   "source": [
    "## Remplacement des valeurs NaN par 0"
   ]
  },
  {
   "cell_type": "code",
   "execution_count": 3,
   "id": "255c729b",
   "metadata": {
    "canvas": {
     "comments": [],
     "componentType": "CodeCell",
     "copiedOriginId": null,
     "diskcache": false,
     "headerColor": "none",
     "id": "a9894624-b86e-426c-ae3a-162e701b432e",
     "isComponent": false,
     "name": "",
     "parents": []
    },
    "hidden": true
   },
   "outputs": [],
   "source": [
    "sous_nutrition = sous_nutrition.replace(np.nan, 0)"
   ]
  },
  {
   "cell_type": "code",
   "execution_count": 4,
   "id": "50105216",
   "metadata": {
    "canvas": {
     "comments": [],
     "componentType": "CodeCell",
     "copiedOriginId": null,
     "diskcache": false,
     "headerColor": "none",
     "id": "c4267576-229b-40f3-85a5-55be2eeeb4d5",
     "isComponent": false,
     "name": "",
     "parents": []
    },
    "hidden": true
   },
   "outputs": [
    {
     "data": {
      "text/html": [
       "<div>\n",
       "<style scoped>\n",
       "    .dataframe tbody tr th:only-of-type {\n",
       "        vertical-align: middle;\n",
       "    }\n",
       "\n",
       "    .dataframe tbody tr th {\n",
       "        vertical-align: top;\n",
       "    }\n",
       "\n",
       "    .dataframe thead th {\n",
       "        text-align: right;\n",
       "    }\n",
       "</style>\n",
       "<table border=\"1\" class=\"dataframe\">\n",
       "  <thead>\n",
       "    <tr style=\"text-align: right;\">\n",
       "      <th></th>\n",
       "      <th>Zone</th>\n",
       "      <th>Année</th>\n",
       "      <th>Valeur</th>\n",
       "    </tr>\n",
       "  </thead>\n",
       "  <tbody>\n",
       "    <tr>\n",
       "      <th>1057</th>\n",
       "      <td>Soudan</td>\n",
       "      <td>2013-2015</td>\n",
       "      <td>5.1</td>\n",
       "    </tr>\n",
       "    <tr>\n",
       "      <th>130</th>\n",
       "      <td>Bénin</td>\n",
       "      <td>2016-2018</td>\n",
       "      <td>0.8</td>\n",
       "    </tr>\n",
       "    <tr>\n",
       "      <th>901</th>\n",
       "      <td>République arabe syrienne</td>\n",
       "      <td>2013-2015</td>\n",
       "      <td>0</td>\n",
       "    </tr>\n",
       "    <tr>\n",
       "      <th>1200</th>\n",
       "      <td>Yémen</td>\n",
       "      <td>2012-2014</td>\n",
       "      <td>0</td>\n",
       "    </tr>\n",
       "    <tr>\n",
       "      <th>151</th>\n",
       "      <td>Bosnie-Herzégovine</td>\n",
       "      <td>2013-2015</td>\n",
       "      <td>0</td>\n",
       "    </tr>\n",
       "  </tbody>\n",
       "</table>\n",
       "</div>"
      ],
      "text/plain": [
       "                           Zone      Année Valeur\n",
       "1057                     Soudan  2013-2015    5.1\n",
       "130                       Bénin  2016-2018    0.8\n",
       "901   République arabe syrienne  2013-2015      0\n",
       "1200                      Yémen  2012-2014      0\n",
       "151          Bosnie-Herzégovine  2013-2015      0"
      ]
     },
     "execution_count": 4,
     "metadata": {},
     "output_type": "execute_result"
    }
   ],
   "source": [
    "sous_nutrition.sample(5)"
   ]
  },
  {
   "cell_type": "markdown",
   "id": "676b1749",
   "metadata": {
    "canvas": {
     "comments": [],
     "componentType": "CodeCell",
     "copiedOriginId": null,
     "diskcache": false,
     "headerColor": "none",
     "id": "49d14009-2c4a-4fa8-99f2-4c413858c7cb",
     "isComponent": false,
     "name": "",
     "parents": []
    },
    "heading_collapsed": true,
    "hidden": true
   },
   "source": [
    "## Changement du format en float (colonne \"Valeur\")"
   ]
  },
  {
   "cell_type": "code",
   "execution_count": 5,
   "id": "3b7cf189",
   "metadata": {
    "canvas": {
     "comments": [],
     "componentType": "CodeCell",
     "copiedOriginId": null,
     "diskcache": false,
     "headerColor": "none",
     "id": "57c343b0-125f-4a94-85c2-51626663f9ae",
     "isComponent": false,
     "name": "",
     "parents": []
    },
    "hidden": true
   },
   "outputs": [],
   "source": [
    "sous_nutrition['Valeur'] = sous_nutrition['Valeur'].replace('<0.1', 0)"
   ]
  },
  {
   "cell_type": "code",
   "execution_count": 6,
   "id": "00cbf565",
   "metadata": {
    "canvas": {
     "comments": [],
     "componentType": "CodeCell",
     "copiedOriginId": null,
     "diskcache": false,
     "headerColor": "none",
     "id": "67c842c3-a721-49a3-b982-b6f98aeae0d1",
     "isComponent": false,
     "name": "",
     "parents": []
    },
    "hidden": true
   },
   "outputs": [],
   "source": [
    "sous_nutrition['Valeur'] = sous_nutrition['Valeur'].astype('float')"
   ]
  },
  {
   "cell_type": "code",
   "execution_count": 7,
   "id": "a49ba991",
   "metadata": {
    "canvas": {
     "comments": [],
     "componentType": "CodeCell",
     "copiedOriginId": null,
     "diskcache": false,
     "headerColor": "none",
     "id": "698afaff-f2fb-4001-b57a-efe6b08c4f24",
     "isComponent": false,
     "name": "",
     "parents": []
    },
    "hidden": true
   },
   "outputs": [
    {
     "data": {
      "text/plain": [
       "Zone       object\n",
       "Année      object\n",
       "Valeur    float64\n",
       "dtype: object"
      ]
     },
     "execution_count": 7,
     "metadata": {},
     "output_type": "execute_result"
    }
   ],
   "source": [
    "sous_nutrition.dtypes"
   ]
  },
  {
   "cell_type": "markdown",
   "id": "22a40cc2",
   "metadata": {
    "canvas": {
     "comments": [],
     "componentType": "CodeCell",
     "copiedOriginId": null,
     "diskcache": false,
     "headerColor": "none",
     "id": "e205e541-fe02-49a3-80c2-57652b1880f0",
     "isComponent": false,
     "name": "",
     "parents": []
    },
    "heading_collapsed": true,
    "hidden": true
   },
   "source": [
    "## Mise en commun des échelles"
   ]
  },
  {
   "cell_type": "code",
   "execution_count": 8,
   "id": "3df50077",
   "metadata": {
    "canvas": {
     "comments": [],
     "componentType": "CodeCell",
     "copiedOriginId": null,
     "diskcache": false,
     "headerColor": "none",
     "id": "a6e1b914-721e-4e66-b461-d5e87d5c0469",
     "isComponent": false,
     "name": "",
     "parents": []
    },
    "hidden": true
   },
   "outputs": [],
   "source": [
    "sous_nutrition['Valeur'] = sous_nutrition['Valeur'] * 1000000"
   ]
  },
  {
   "cell_type": "code",
   "execution_count": 9,
   "id": "dd5ea2b0",
   "metadata": {
    "canvas": {
     "comments": [],
     "componentType": "CodeCell",
     "copiedOriginId": null,
     "diskcache": false,
     "headerColor": "none",
     "id": "82f83ac2-d0f8-46cd-8534-fde8e049e264",
     "isComponent": false,
     "name": "",
     "parents": []
    },
    "hidden": true
   },
   "outputs": [
    {
     "data": {
      "text/html": [
       "<div>\n",
       "<style scoped>\n",
       "    .dataframe tbody tr th:only-of-type {\n",
       "        vertical-align: middle;\n",
       "    }\n",
       "\n",
       "    .dataframe tbody tr th {\n",
       "        vertical-align: top;\n",
       "    }\n",
       "\n",
       "    .dataframe thead th {\n",
       "        text-align: right;\n",
       "    }\n",
       "</style>\n",
       "<table border=\"1\" class=\"dataframe\">\n",
       "  <thead>\n",
       "    <tr style=\"text-align: right;\">\n",
       "      <th></th>\n",
       "      <th>Zone</th>\n",
       "      <th>Année</th>\n",
       "      <th>Valeur</th>\n",
       "    </tr>\n",
       "  </thead>\n",
       "  <tbody>\n",
       "    <tr>\n",
       "      <th>380</th>\n",
       "      <td>Fidji</td>\n",
       "      <td>2014-2016</td>\n",
       "      <td>0.0</td>\n",
       "    </tr>\n",
       "    <tr>\n",
       "      <th>850</th>\n",
       "      <td>Paraguay</td>\n",
       "      <td>2016-2018</td>\n",
       "      <td>600000.0</td>\n",
       "    </tr>\n",
       "    <tr>\n",
       "      <th>1115</th>\n",
       "      <td>Thaïlande</td>\n",
       "      <td>2017-2019</td>\n",
       "      <td>6500000.0</td>\n",
       "    </tr>\n",
       "    <tr>\n",
       "      <th>572</th>\n",
       "      <td>Kazakhstan</td>\n",
       "      <td>2014-2016</td>\n",
       "      <td>0.0</td>\n",
       "    </tr>\n",
       "    <tr>\n",
       "      <th>631</th>\n",
       "      <td>Lituanie</td>\n",
       "      <td>2013-2015</td>\n",
       "      <td>0.0</td>\n",
       "    </tr>\n",
       "  </tbody>\n",
       "</table>\n",
       "</div>"
      ],
      "text/plain": [
       "            Zone      Année     Valeur\n",
       "380        Fidji  2014-2016        0.0\n",
       "850     Paraguay  2016-2018   600000.0\n",
       "1115   Thaïlande  2017-2019  6500000.0\n",
       "572   Kazakhstan  2014-2016        0.0\n",
       "631     Lituanie  2013-2015        0.0"
      ]
     },
     "execution_count": 9,
     "metadata": {},
     "output_type": "execute_result"
    }
   ],
   "source": [
    "sous_nutrition.sample(5)"
   ]
  },
  {
   "cell_type": "markdown",
   "id": "b7029452",
   "metadata": {
    "canvas": {
     "comments": [],
     "componentType": "CodeCell",
     "copiedOriginId": null,
     "diskcache": false,
     "headerColor": "none",
     "id": "d6bb92ab-4973-4e00-891a-63d4806ee944",
     "isComponent": false,
     "name": "",
     "parents": []
    },
    "heading_collapsed": true,
    "hidden": true
   },
   "source": [
    "## Mise en commun des années"
   ]
  },
  {
   "cell_type": "code",
   "execution_count": 10,
   "id": "606633c1",
   "metadata": {
    "canvas": {
     "comments": [],
     "componentType": "CodeCell",
     "copiedOriginId": null,
     "diskcache": false,
     "headerColor": "none",
     "id": "236d57e9-2f7f-4069-91b5-121a5227c5ba",
     "isComponent": false,
     "name": "",
     "parents": []
    },
    "hidden": true
   },
   "outputs": [
    {
     "data": {
      "text/plain": [
       "array(['2012-2014', '2013-2015', '2014-2016', '2015-2017', '2016-2018',\n",
       "       '2017-2019'], dtype=object)"
      ]
     },
     "execution_count": 10,
     "metadata": {},
     "output_type": "execute_result"
    }
   ],
   "source": [
    "sous_nutrition['Année'].unique()"
   ]
  },
  {
   "cell_type": "code",
   "execution_count": 11,
   "id": "b65a5ddb",
   "metadata": {
    "canvas": {
     "comments": [],
     "componentType": "CodeCell",
     "copiedOriginId": null,
     "diskcache": false,
     "headerColor": "none",
     "id": "ed06e65e-7351-476d-b34a-00fc2e416e39",
     "isComponent": false,
     "name": "",
     "parents": []
    },
    "hidden": true
   },
   "outputs": [],
   "source": [
    "sous_nutrition[\"Année\"] = sous_nutrition[\"Année\"].replace(\"2012-2014\", 2013).replace(\"2013-2015\", 2014).replace(\"2014-2016\", 2015).replace(\"2015-2017\", 2016).replace(\"2016-2018\", 2017).replace(\"2017-2019\", 2018)"
   ]
  },
  {
   "cell_type": "code",
   "execution_count": 12,
   "id": "234bcd36",
   "metadata": {
    "canvas": {
     "comments": [],
     "componentType": "CodeCell",
     "copiedOriginId": null,
     "diskcache": false,
     "headerColor": "none",
     "id": "a1255220-2247-487a-8f1b-e09b0558f10d",
     "isComponent": false,
     "name": "",
     "parents": []
    },
    "hidden": true
   },
   "outputs": [
    {
     "data": {
      "text/plain": [
       "array([2013, 2014, 2015, 2016, 2017, 2018])"
      ]
     },
     "execution_count": 12,
     "metadata": {},
     "output_type": "execute_result"
    }
   ],
   "source": [
    "sous_nutrition['Année'].unique()"
   ]
  },
  {
   "cell_type": "code",
   "execution_count": 13,
   "id": "fa23b26a",
   "metadata": {
    "canvas": {
     "comments": [],
     "componentType": "CodeCell",
     "copiedOriginId": null,
     "diskcache": false,
     "headerColor": "none",
     "id": "f0140dc3-8530-4444-b5bb-dede3288ced5",
     "isComponent": false,
     "name": "",
     "parents": []
    },
    "hidden": true
   },
   "outputs": [
    {
     "data": {
      "text/plain": [
       "dtype('int64')"
      ]
     },
     "execution_count": 13,
     "metadata": {},
     "output_type": "execute_result"
    }
   ],
   "source": [
    "sous_nutrition['Année'].dtypes"
   ]
  },
  {
   "cell_type": "code",
   "execution_count": 14,
   "id": "765b6f92",
   "metadata": {
    "canvas": {
     "comments": [],
     "componentType": "CodeCell",
     "copiedOriginId": null,
     "diskcache": false,
     "headerColor": "none",
     "id": "a391389b-815c-4631-8b89-9a9a1681c8f1",
     "isComponent": false,
     "name": "",
     "parents": []
    },
    "hidden": true
   },
   "outputs": [
    {
     "name": "stdout",
     "output_type": "stream",
     "text": [
      "<class 'pandas.core.frame.DataFrame'>\n",
      "RangeIndex: 1218 entries, 0 to 1217\n",
      "Data columns (total 3 columns):\n",
      " #   Column  Non-Null Count  Dtype  \n",
      "---  ------  --------------  -----  \n",
      " 0   Zone    1218 non-null   object \n",
      " 1   Année   1218 non-null   int64  \n",
      " 2   Valeur  1218 non-null   float64\n",
      "dtypes: float64(1), int64(1), object(1)\n",
      "memory usage: 28.7+ KB\n"
     ]
    }
   ],
   "source": [
    "sous_nutrition.info()"
   ]
  },
  {
   "cell_type": "markdown",
   "id": "148566d6",
   "metadata": {
    "canvas": {
     "comments": [],
     "componentType": "CodeCell",
     "copiedOriginId": null,
     "diskcache": false,
     "headerColor": "none",
     "id": "3a554dac-ebfa-4c8a-9157-ede5cfd2d3b6",
     "isComponent": false,
     "name": "",
     "parents": []
    },
    "heading_collapsed": true,
    "hidden": true
   },
   "source": [
    "## Au vu des futures jointures renommage des colonnes en noms uniques"
   ]
  },
  {
   "cell_type": "code",
   "execution_count": 15,
   "id": "18b4d2ce",
   "metadata": {
    "canvas": {
     "comments": [],
     "componentType": "CodeCell",
     "copiedOriginId": null,
     "diskcache": false,
     "headerColor": "none",
     "id": "bee250db-662e-41cc-ae24-e3c049d594c5",
     "isComponent": false,
     "name": "",
     "parents": []
    },
    "hidden": true
   },
   "outputs": [],
   "source": [
    "sous_nutrition.rename(columns = {'Valeur': 'Population en sous-nutrition'}, inplace=True)"
   ]
  },
  {
   "cell_type": "code",
   "execution_count": 16,
   "id": "c6684bf4",
   "metadata": {
    "canvas": {
     "comments": [],
     "componentType": "CodeCell",
     "copiedOriginId": null,
     "diskcache": false,
     "headerColor": "none",
     "id": "c62d0796-528b-408b-b7da-90be3a8b32b1",
     "isComponent": false,
     "name": "",
     "parents": []
    },
    "hidden": true
   },
   "outputs": [
    {
     "data": {
      "text/html": [
       "<div>\n",
       "<style scoped>\n",
       "    .dataframe tbody tr th:only-of-type {\n",
       "        vertical-align: middle;\n",
       "    }\n",
       "\n",
       "    .dataframe tbody tr th {\n",
       "        vertical-align: top;\n",
       "    }\n",
       "\n",
       "    .dataframe thead th {\n",
       "        text-align: right;\n",
       "    }\n",
       "</style>\n",
       "<table border=\"1\" class=\"dataframe\">\n",
       "  <thead>\n",
       "    <tr style=\"text-align: right;\">\n",
       "      <th></th>\n",
       "      <th>Zone</th>\n",
       "      <th>Année</th>\n",
       "      <th>Population en sous-nutrition</th>\n",
       "    </tr>\n",
       "  </thead>\n",
       "  <tbody>\n",
       "    <tr>\n",
       "      <th>590</th>\n",
       "      <td>Kiribati</td>\n",
       "      <td>2015</td>\n",
       "      <td>0.0</td>\n",
       "    </tr>\n",
       "    <tr>\n",
       "      <th>555</th>\n",
       "      <td>Jamaïque</td>\n",
       "      <td>2016</td>\n",
       "      <td>300000.0</td>\n",
       "    </tr>\n",
       "    <tr>\n",
       "      <th>716</th>\n",
       "      <td>Mongolie</td>\n",
       "      <td>2015</td>\n",
       "      <td>600000.0</td>\n",
       "    </tr>\n",
       "    <tr>\n",
       "      <th>193</th>\n",
       "      <td>Cabo Verde</td>\n",
       "      <td>2014</td>\n",
       "      <td>0.0</td>\n",
       "    </tr>\n",
       "    <tr>\n",
       "      <th>542</th>\n",
       "      <td>Israël</td>\n",
       "      <td>2015</td>\n",
       "      <td>0.0</td>\n",
       "    </tr>\n",
       "  </tbody>\n",
       "</table>\n",
       "</div>"
      ],
      "text/plain": [
       "           Zone  Année  Population en sous-nutrition\n",
       "590    Kiribati   2015                           0.0\n",
       "555    Jamaïque   2016                      300000.0\n",
       "716    Mongolie   2015                      600000.0\n",
       "193  Cabo Verde   2014                           0.0\n",
       "542      Israël   2015                           0.0"
      ]
     },
     "execution_count": 16,
     "metadata": {},
     "output_type": "execute_result"
    }
   ],
   "source": [
    "sous_nutrition.sample(5)"
   ]
  },
  {
   "cell_type": "markdown",
   "id": "a61dd711",
   "metadata": {
    "canvas": {
     "comments": [],
     "componentType": "CodeCell",
     "copiedOriginId": null,
     "diskcache": false,
     "headerColor": "none",
     "id": "581eec06-c3a5-479c-85d2-eaf1eaa354f7",
     "isComponent": false,
     "name": "",
     "parents": []
    },
    "heading_collapsed": true
   },
   "source": [
    "# **Population**"
   ]
  },
  {
   "cell_type": "markdown",
   "id": "af9e12ae",
   "metadata": {
    "canvas": {
     "comments": [],
     "componentType": "CodeCell",
     "copiedOriginId": null,
     "diskcache": false,
     "headerColor": "none",
     "id": "c48d7a32-63dc-4eec-baaf-50583ee49e7a",
     "isComponent": false,
     "name": "",
     "parents": []
    },
    "heading_collapsed": true,
    "hidden": true
   },
   "source": [
    "## Mise en commun des échelles"
   ]
  },
  {
   "cell_type": "code",
   "execution_count": 17,
   "id": "9da3d8c3",
   "metadata": {
    "canvas": {
     "comments": [],
     "componentType": "CodeCell",
     "copiedOriginId": null,
     "diskcache": false,
     "headerColor": "none",
     "id": "08d6d98c-f2c9-4bfb-850d-25673e9b7c94",
     "isComponent": false,
     "name": "",
     "parents": []
    },
    "hidden": true
   },
   "outputs": [],
   "source": [
    "population['Valeur'] = population['Valeur'] * 1000"
   ]
  },
  {
   "cell_type": "code",
   "execution_count": 18,
   "id": "68c3d32a",
   "metadata": {
    "canvas": {
     "comments": [],
     "componentType": "CodeCell",
     "copiedOriginId": null,
     "diskcache": false,
     "headerColor": "none",
     "id": "0ef8b324-c62a-4692-9a95-9d23c8dbbc5f",
     "isComponent": false,
     "name": "",
     "parents": []
    },
    "hidden": true
   },
   "outputs": [
    {
     "data": {
      "text/html": [
       "<div>\n",
       "<style scoped>\n",
       "    .dataframe tbody tr th:only-of-type {\n",
       "        vertical-align: middle;\n",
       "    }\n",
       "\n",
       "    .dataframe tbody tr th {\n",
       "        vertical-align: top;\n",
       "    }\n",
       "\n",
       "    .dataframe thead th {\n",
       "        text-align: right;\n",
       "    }\n",
       "</style>\n",
       "<table border=\"1\" class=\"dataframe\">\n",
       "  <thead>\n",
       "    <tr style=\"text-align: right;\">\n",
       "      <th></th>\n",
       "      <th>Zone</th>\n",
       "      <th>Année</th>\n",
       "      <th>Valeur</th>\n",
       "    </tr>\n",
       "  </thead>\n",
       "  <tbody>\n",
       "    <tr>\n",
       "      <th>917</th>\n",
       "      <td>Nigéria</td>\n",
       "      <td>2018</td>\n",
       "      <td>195874683.0</td>\n",
       "    </tr>\n",
       "    <tr>\n",
       "      <th>1142</th>\n",
       "      <td>Sainte-Lucie</td>\n",
       "      <td>2015</td>\n",
       "      <td>179126.0</td>\n",
       "    </tr>\n",
       "    <tr>\n",
       "      <th>66</th>\n",
       "      <td>Argentine</td>\n",
       "      <td>2013</td>\n",
       "      <td>42196030.0</td>\n",
       "    </tr>\n",
       "    <tr>\n",
       "      <th>683</th>\n",
       "      <td>Jordanie</td>\n",
       "      <td>2018</td>\n",
       "      <td>9965318.0</td>\n",
       "    </tr>\n",
       "    <tr>\n",
       "      <th>100</th>\n",
       "      <td>Azerbaïdjan</td>\n",
       "      <td>2017</td>\n",
       "      <td>9845320.0</td>\n",
       "    </tr>\n",
       "  </tbody>\n",
       "</table>\n",
       "</div>"
      ],
      "text/plain": [
       "              Zone  Année       Valeur\n",
       "917        Nigéria   2018  195874683.0\n",
       "1142  Sainte-Lucie   2015     179126.0\n",
       "66       Argentine   2013   42196030.0\n",
       "683       Jordanie   2018    9965318.0\n",
       "100    Azerbaïdjan   2017    9845320.0"
      ]
     },
     "execution_count": 18,
     "metadata": {},
     "output_type": "execute_result"
    }
   ],
   "source": [
    "population.sample(5)"
   ]
  },
  {
   "cell_type": "markdown",
   "id": "30cf2440",
   "metadata": {
    "canvas": {
     "comments": [],
     "componentType": "CodeCell",
     "copiedOriginId": null,
     "diskcache": false,
     "headerColor": "none",
     "id": "5706c325-1985-4cbe-b193-b7a1330fb617",
     "isComponent": false,
     "name": "",
     "parents": []
    },
    "heading_collapsed": true,
    "hidden": true
   },
   "source": [
    "## Au vu des futures jointures renommage des colonnes en noms uniques"
   ]
  },
  {
   "cell_type": "code",
   "execution_count": 19,
   "id": "81d65f6a",
   "metadata": {
    "canvas": {
     "comments": [],
     "componentType": "CodeCell",
     "copiedOriginId": null,
     "diskcache": false,
     "headerColor": "none",
     "id": "3ff21f47-5faf-4ec0-8bb5-a8fe1f4291cd",
     "isComponent": false,
     "name": "",
     "parents": []
    },
    "hidden": true
   },
   "outputs": [],
   "source": [
    "population.rename(columns = {'Valeur': 'Population'}, inplace=True)"
   ]
  },
  {
   "cell_type": "code",
   "execution_count": 20,
   "id": "c2be0271",
   "metadata": {
    "canvas": {
     "comments": [],
     "componentType": "CodeCell",
     "copiedOriginId": null,
     "diskcache": false,
     "headerColor": "none",
     "id": "5880feae-c629-40a9-b7c0-96e7ebbd6770",
     "isComponent": false,
     "name": "",
     "parents": []
    },
    "hidden": true
   },
   "outputs": [
    {
     "data": {
      "text/html": [
       "<div>\n",
       "<style scoped>\n",
       "    .dataframe tbody tr th:only-of-type {\n",
       "        vertical-align: middle;\n",
       "    }\n",
       "\n",
       "    .dataframe tbody tr th {\n",
       "        vertical-align: top;\n",
       "    }\n",
       "\n",
       "    .dataframe thead th {\n",
       "        text-align: right;\n",
       "    }\n",
       "</style>\n",
       "<table border=\"1\" class=\"dataframe\">\n",
       "  <thead>\n",
       "    <tr style=\"text-align: right;\">\n",
       "      <th></th>\n",
       "      <th>Zone</th>\n",
       "      <th>Année</th>\n",
       "      <th>Population</th>\n",
       "    </tr>\n",
       "  </thead>\n",
       "  <tbody>\n",
       "    <tr>\n",
       "      <th>487</th>\n",
       "      <td>Guatemala</td>\n",
       "      <td>2014</td>\n",
       "      <td>15923236.0</td>\n",
       "    </tr>\n",
       "    <tr>\n",
       "      <th>1241</th>\n",
       "      <td>Slovaquie</td>\n",
       "      <td>2018</td>\n",
       "      <td>5453014.0</td>\n",
       "    </tr>\n",
       "    <tr>\n",
       "      <th>458</th>\n",
       "      <td>Grèce</td>\n",
       "      <td>2015</td>\n",
       "      <td>10659750.0</td>\n",
       "    </tr>\n",
       "    <tr>\n",
       "      <th>447</th>\n",
       "      <td>Ghana</td>\n",
       "      <td>2016</td>\n",
       "      <td>28481945.0</td>\n",
       "    </tr>\n",
       "    <tr>\n",
       "      <th>66</th>\n",
       "      <td>Argentine</td>\n",
       "      <td>2013</td>\n",
       "      <td>42196030.0</td>\n",
       "    </tr>\n",
       "  </tbody>\n",
       "</table>\n",
       "</div>"
      ],
      "text/plain": [
       "           Zone  Année  Population\n",
       "487   Guatemala   2014  15923236.0\n",
       "1241  Slovaquie   2018   5453014.0\n",
       "458       Grèce   2015  10659750.0\n",
       "447       Ghana   2016  28481945.0\n",
       "66    Argentine   2013  42196030.0"
      ]
     },
     "execution_count": 20,
     "metadata": {},
     "output_type": "execute_result"
    }
   ],
   "source": [
    "population.sample(5)"
   ]
  },
  {
   "cell_type": "markdown",
   "id": "d62f1719",
   "metadata": {
    "canvas": {
     "comments": [],
     "componentType": "CodeCell",
     "copiedOriginId": null,
     "diskcache": false,
     "headerColor": "none",
     "id": "a4ae37cb-153f-43cb-9d6d-c63a545694b8",
     "isComponent": false,
     "name": "",
     "parents": []
    },
    "heading_collapsed": true,
    "hidden": true
   },
   "source": [
    "## Au vu des futures jointures renommage des valeurs"
   ]
  },
  {
   "cell_type": "code",
   "execution_count": 21,
   "id": "ed58edbb",
   "metadata": {
    "canvas": {
     "comments": [],
     "componentType": "CodeCell",
     "copiedOriginId": null,
     "diskcache": false,
     "headerColor": "none",
     "id": "49f8df23-9f16-4584-9b2f-08fa28dd0b02",
     "isComponent": false,
     "name": "",
     "parents": []
    },
    "hidden": true
   },
   "outputs": [],
   "source": [
    "population['Zone'] = population['Zone'].replace(\"Chine - RAS de Hong-Kong\", \"Hong Kong\")\n",
    "population['Zone'] = population['Zone'].replace(\"Chine - RAS de Macao\", \"Macao\")\n",
    "population['Zone'] = population['Zone'].replace(\"Saint-Vincent-et-les Grenadines\", \"Saint-Vincent-et-les-Grenadines\")"
   ]
  },
  {
   "cell_type": "markdown",
   "id": "075180b9",
   "metadata": {
    "canvas": {
     "comments": [],
     "componentType": "CodeCell",
     "copiedOriginId": null,
     "diskcache": false,
     "headerColor": "none",
     "id": "06a67257-fb5b-4af1-b088-78d58f24dbef",
     "isComponent": false,
     "name": "",
     "parents": []
    },
    "heading_collapsed": true
   },
   "source": [
    "# **Dispo alimentaire**"
   ]
  },
  {
   "cell_type": "markdown",
   "id": "d1f2f4a2",
   "metadata": {
    "canvas": {
     "comments": [],
     "componentType": "CodeCell",
     "copiedOriginId": null,
     "diskcache": false,
     "headerColor": "none",
     "id": "5b2fc0bc-c86c-4681-9f99-bc0a1c05504c",
     "isComponent": false,
     "name": "",
     "parents": []
    },
    "heading_collapsed": true,
    "hidden": true
   },
   "source": [
    "## Remplacement des valeurs NaN par 0"
   ]
  },
  {
   "cell_type": "code",
   "execution_count": 22,
   "id": "349c027e",
   "metadata": {
    "canvas": {
     "comments": [],
     "componentType": "CodeCell",
     "copiedOriginId": null,
     "diskcache": false,
     "headerColor": "none",
     "id": "6702ab65-692a-453b-95b5-ee32b4a5effe",
     "isComponent": false,
     "name": "",
     "parents": []
    },
    "hidden": true
   },
   "outputs": [],
   "source": [
    "dispo_alim = dispo_alim.replace(np.nan, 0)"
   ]
  },
  {
   "cell_type": "code",
   "execution_count": 23,
   "id": "e7411880",
   "metadata": {
    "canvas": {
     "comments": [],
     "componentType": "CodeCell",
     "copiedOriginId": null,
     "diskcache": false,
     "headerColor": "none",
     "id": "0837997a-8d71-440f-bf40-0b0d830d6779",
     "isComponent": false,
     "name": "",
     "parents": []
    },
    "hidden": true
   },
   "outputs": [
    {
     "data": {
      "text/html": [
       "<div>\n",
       "<style scoped>\n",
       "    .dataframe tbody tr th:only-of-type {\n",
       "        vertical-align: middle;\n",
       "    }\n",
       "\n",
       "    .dataframe tbody tr th {\n",
       "        vertical-align: top;\n",
       "    }\n",
       "\n",
       "    .dataframe thead th {\n",
       "        text-align: right;\n",
       "    }\n",
       "</style>\n",
       "<table border=\"1\" class=\"dataframe\">\n",
       "  <thead>\n",
       "    <tr style=\"text-align: right;\">\n",
       "      <th></th>\n",
       "      <th>Zone</th>\n",
       "      <th>Produit</th>\n",
       "      <th>Origine</th>\n",
       "      <th>Aliments pour animaux</th>\n",
       "      <th>Autres Utilisations</th>\n",
       "      <th>Disponibilité alimentaire (Kcal/personne/jour)</th>\n",
       "      <th>Disponibilité alimentaire en quantité (kg/personne/an)</th>\n",
       "      <th>Disponibilité de matière grasse en quantité (g/personne/jour)</th>\n",
       "      <th>Disponibilité de protéines en quantité (g/personne/jour)</th>\n",
       "      <th>Disponibilité intérieure</th>\n",
       "      <th>Exportations - Quantité</th>\n",
       "      <th>Importations - Quantité</th>\n",
       "      <th>Nourriture</th>\n",
       "      <th>Pertes</th>\n",
       "      <th>Production</th>\n",
       "      <th>Semences</th>\n",
       "      <th>Traitement</th>\n",
       "      <th>Variation de stock</th>\n",
       "    </tr>\n",
       "  </thead>\n",
       "  <tbody>\n",
       "    <tr>\n",
       "      <th>11551</th>\n",
       "      <td>Rwanda</td>\n",
       "      <td>Avoine</td>\n",
       "      <td>vegetale</td>\n",
       "      <td>0.0</td>\n",
       "      <td>0.0</td>\n",
       "      <td>0.0</td>\n",
       "      <td>0.00</td>\n",
       "      <td>0.00</td>\n",
       "      <td>0.00</td>\n",
       "      <td>0.0</td>\n",
       "      <td>0.0</td>\n",
       "      <td>0.0</td>\n",
       "      <td>0.0</td>\n",
       "      <td>0.0</td>\n",
       "      <td>0.0</td>\n",
       "      <td>0.0</td>\n",
       "      <td>0.0</td>\n",
       "      <td>0.0</td>\n",
       "    </tr>\n",
       "    <tr>\n",
       "      <th>8562</th>\n",
       "      <td>Maldives</td>\n",
       "      <td>Millet</td>\n",
       "      <td>vegetale</td>\n",
       "      <td>0.0</td>\n",
       "      <td>0.0</td>\n",
       "      <td>6.0</td>\n",
       "      <td>0.71</td>\n",
       "      <td>0.02</td>\n",
       "      <td>0.11</td>\n",
       "      <td>0.0</td>\n",
       "      <td>0.0</td>\n",
       "      <td>0.0</td>\n",
       "      <td>0.0</td>\n",
       "      <td>0.0</td>\n",
       "      <td>0.0</td>\n",
       "      <td>0.0</td>\n",
       "      <td>0.0</td>\n",
       "      <td>0.0</td>\n",
       "    </tr>\n",
       "    <tr>\n",
       "      <th>10051</th>\n",
       "      <td>Nouvelle-Calédonie</td>\n",
       "      <td>Viande de Bovins</td>\n",
       "      <td>animale</td>\n",
       "      <td>0.0</td>\n",
       "      <td>3.0</td>\n",
       "      <td>85.0</td>\n",
       "      <td>16.07</td>\n",
       "      <td>6.26</td>\n",
       "      <td>6.65</td>\n",
       "      <td>7.0</td>\n",
       "      <td>0.0</td>\n",
       "      <td>3.0</td>\n",
       "      <td>4.0</td>\n",
       "      <td>0.0</td>\n",
       "      <td>3.0</td>\n",
       "      <td>0.0</td>\n",
       "      <td>0.0</td>\n",
       "      <td>0.0</td>\n",
       "    </tr>\n",
       "    <tr>\n",
       "      <th>8756</th>\n",
       "      <td>Malte</td>\n",
       "      <td>Piments</td>\n",
       "      <td>vegetale</td>\n",
       "      <td>0.0</td>\n",
       "      <td>0.0</td>\n",
       "      <td>0.0</td>\n",
       "      <td>0.04</td>\n",
       "      <td>0.02</td>\n",
       "      <td>0.01</td>\n",
       "      <td>0.0</td>\n",
       "      <td>0.0</td>\n",
       "      <td>0.0</td>\n",
       "      <td>0.0</td>\n",
       "      <td>0.0</td>\n",
       "      <td>0.0</td>\n",
       "      <td>0.0</td>\n",
       "      <td>0.0</td>\n",
       "      <td>0.0</td>\n",
       "    </tr>\n",
       "    <tr>\n",
       "      <th>10100</th>\n",
       "      <td>Nouvelle-Zélande</td>\n",
       "      <td>Huile de Tournesol</td>\n",
       "      <td>vegetale</td>\n",
       "      <td>0.0</td>\n",
       "      <td>6.0</td>\n",
       "      <td>27.0</td>\n",
       "      <td>1.12</td>\n",
       "      <td>3.08</td>\n",
       "      <td>0.00</td>\n",
       "      <td>11.0</td>\n",
       "      <td>1.0</td>\n",
       "      <td>12.0</td>\n",
       "      <td>5.0</td>\n",
       "      <td>0.0</td>\n",
       "      <td>0.0</td>\n",
       "      <td>0.0</td>\n",
       "      <td>0.0</td>\n",
       "      <td>0.0</td>\n",
       "    </tr>\n",
       "  </tbody>\n",
       "</table>\n",
       "</div>"
      ],
      "text/plain": [
       "                     Zone             Produit   Origine  \\\n",
       "11551              Rwanda              Avoine  vegetale   \n",
       "8562             Maldives              Millet  vegetale   \n",
       "10051  Nouvelle-Calédonie    Viande de Bovins   animale   \n",
       "8756                Malte             Piments  vegetale   \n",
       "10100    Nouvelle-Zélande  Huile de Tournesol  vegetale   \n",
       "\n",
       "       Aliments pour animaux  Autres Utilisations  \\\n",
       "11551                    0.0                  0.0   \n",
       "8562                     0.0                  0.0   \n",
       "10051                    0.0                  3.0   \n",
       "8756                     0.0                  0.0   \n",
       "10100                    0.0                  6.0   \n",
       "\n",
       "       Disponibilité alimentaire (Kcal/personne/jour)  \\\n",
       "11551                                             0.0   \n",
       "8562                                              6.0   \n",
       "10051                                            85.0   \n",
       "8756                                              0.0   \n",
       "10100                                            27.0   \n",
       "\n",
       "       Disponibilité alimentaire en quantité (kg/personne/an)  \\\n",
       "11551                                               0.00        \n",
       "8562                                                0.71        \n",
       "10051                                              16.07        \n",
       "8756                                                0.04        \n",
       "10100                                               1.12        \n",
       "\n",
       "       Disponibilité de matière grasse en quantité (g/personne/jour)  \\\n",
       "11551                                               0.00               \n",
       "8562                                                0.02               \n",
       "10051                                               6.26               \n",
       "8756                                                0.02               \n",
       "10100                                               3.08               \n",
       "\n",
       "       Disponibilité de protéines en quantité (g/personne/jour)  \\\n",
       "11551                                               0.00          \n",
       "8562                                                0.11          \n",
       "10051                                               6.65          \n",
       "8756                                                0.01          \n",
       "10100                                               0.00          \n",
       "\n",
       "       Disponibilité intérieure  Exportations - Quantité  \\\n",
       "11551                       0.0                      0.0   \n",
       "8562                        0.0                      0.0   \n",
       "10051                       7.0                      0.0   \n",
       "8756                        0.0                      0.0   \n",
       "10100                      11.0                      1.0   \n",
       "\n",
       "       Importations - Quantité  Nourriture  Pertes  Production  Semences  \\\n",
       "11551                      0.0         0.0     0.0         0.0       0.0   \n",
       "8562                       0.0         0.0     0.0         0.0       0.0   \n",
       "10051                      3.0         4.0     0.0         3.0       0.0   \n",
       "8756                       0.0         0.0     0.0         0.0       0.0   \n",
       "10100                     12.0         5.0     0.0         0.0       0.0   \n",
       "\n",
       "       Traitement  Variation de stock  \n",
       "11551         0.0                 0.0  \n",
       "8562          0.0                 0.0  \n",
       "10051         0.0                 0.0  \n",
       "8756          0.0                 0.0  \n",
       "10100         0.0                 0.0  "
      ]
     },
     "execution_count": 23,
     "metadata": {},
     "output_type": "execute_result"
    }
   ],
   "source": [
    "dispo_alim.sample(5)"
   ]
  },
  {
   "cell_type": "markdown",
   "id": "197c764c",
   "metadata": {
    "canvas": {
     "comments": [],
     "componentType": "CodeCell",
     "copiedOriginId": null,
     "diskcache": false,
     "headerColor": "none",
     "id": "5168897d-0054-4cac-a8e7-f237ddefe897",
     "isComponent": false,
     "name": "",
     "parents": []
    },
    "heading_collapsed": true,
    "hidden": true
   },
   "source": [
    "## Au vu des futures jointures renommage des valeurs"
   ]
  },
  {
   "cell_type": "code",
   "execution_count": 24,
   "id": "805d4fc2",
   "metadata": {
    "canvas": {
     "comments": [],
     "componentType": "CodeCell",
     "copiedOriginId": null,
     "diskcache": false,
     "headerColor": "none",
     "id": "066da13a-53a5-47fb-9e04-8b46324fa1fe",
     "isComponent": false,
     "name": "",
     "parents": []
    },
    "hidden": true
   },
   "outputs": [],
   "source": [
    "dispo_alim['Zone'] = dispo_alim['Zone'].replace(\"Chine - RAS de Hong-Kong\", \"Hong Kong\")\n",
    "dispo_alim['Zone'] = dispo_alim['Zone'].replace(\"Chine - RAS de Macao\", \"Macao\")\n",
    "dispo_alim['Zone'] = dispo_alim['Zone'].replace(\"Royaume-Uni\", \"Royaume-Uni de Grande-Bretagne et d'Irlande du Nord\")\n",
    "dispo_alim['Zone'] = dispo_alim['Zone'].replace(\"Saint-Vincent-et-les Grenadines\", \"Saint-Vincent-et-les-Grenadines\")\n",
    "dispo_alim['Zone'] = dispo_alim['Zone'].replace(\"Tchéquie (la)\", \"Tchéquie\")"
   ]
  },
  {
   "cell_type": "markdown",
   "id": "0176d9b0",
   "metadata": {
    "canvas": {
     "comments": [],
     "componentType": "CodeCell",
     "copiedOriginId": null,
     "diskcache": false,
     "headerColor": "none",
     "id": "f2fd6091-3257-41e5-9e67-ec48e0001930",
     "isComponent": false,
     "name": "",
     "parents": []
    },
    "heading_collapsed": true,
    "hidden": true
   },
   "source": [
    "## Mise en commun des échelles"
   ]
  },
  {
   "cell_type": "code",
   "execution_count": 25,
   "id": "e13ef14e",
   "metadata": {
    "canvas": {
     "comments": [],
     "componentType": "CodeCell",
     "copiedOriginId": null,
     "diskcache": false,
     "headerColor": "none",
     "id": "a6810f24-a9d0-4838-a83d-75be70b99b7a",
     "isComponent": false,
     "name": "",
     "parents": []
    },
    "hidden": true
   },
   "outputs": [],
   "source": [
    "col = ['Aliments pour animaux', 'Autres Utilisations', 'Disponibilité intérieure', 'Exportations - Quantité', \n",
    "       'Importations - Quantité', 'Nourriture', 'Pertes', 'Production', 'Semences', \n",
    "       'Traitement', \n",
    "       'Variation de stock']\n",
    "\n",
    "for i in col:\n",
    "    dispo_alim[[i]] = dispo_alim[[i]] * 1000000\n",
    "    \n",
    "# dispo_alim[col] = dispo_alim[col].apply(lambda x: x * 1000000)"
   ]
  },
  {
   "cell_type": "code",
   "execution_count": 26,
   "id": "cbacc6ed",
   "metadata": {
    "canvas": {
     "comments": [],
     "componentType": "CodeCell",
     "copiedOriginId": null,
     "diskcache": false,
     "headerColor": "none",
     "id": "e74f9484-950e-4d47-b5dd-95f74ca7c538",
     "isComponent": false,
     "name": "",
     "parents": []
    },
    "hidden": true
   },
   "outputs": [
    {
     "data": {
      "text/html": [
       "<div>\n",
       "<style scoped>\n",
       "    .dataframe tbody tr th:only-of-type {\n",
       "        vertical-align: middle;\n",
       "    }\n",
       "\n",
       "    .dataframe tbody tr th {\n",
       "        vertical-align: top;\n",
       "    }\n",
       "\n",
       "    .dataframe thead th {\n",
       "        text-align: right;\n",
       "    }\n",
       "</style>\n",
       "<table border=\"1\" class=\"dataframe\">\n",
       "  <thead>\n",
       "    <tr style=\"text-align: right;\">\n",
       "      <th></th>\n",
       "      <th>Zone</th>\n",
       "      <th>Produit</th>\n",
       "      <th>Origine</th>\n",
       "      <th>Aliments pour animaux</th>\n",
       "      <th>Autres Utilisations</th>\n",
       "      <th>Disponibilité alimentaire (Kcal/personne/jour)</th>\n",
       "      <th>Disponibilité alimentaire en quantité (kg/personne/an)</th>\n",
       "      <th>Disponibilité de matière grasse en quantité (g/personne/jour)</th>\n",
       "      <th>Disponibilité de protéines en quantité (g/personne/jour)</th>\n",
       "      <th>Disponibilité intérieure</th>\n",
       "      <th>Exportations - Quantité</th>\n",
       "      <th>Importations - Quantité</th>\n",
       "      <th>Nourriture</th>\n",
       "      <th>Pertes</th>\n",
       "      <th>Production</th>\n",
       "      <th>Semences</th>\n",
       "      <th>Traitement</th>\n",
       "      <th>Variation de stock</th>\n",
       "    </tr>\n",
       "  </thead>\n",
       "  <tbody>\n",
       "    <tr>\n",
       "      <th>0</th>\n",
       "      <td>Afghanistan</td>\n",
       "      <td>Abats Comestible</td>\n",
       "      <td>animale</td>\n",
       "      <td>0.0</td>\n",
       "      <td>0.0</td>\n",
       "      <td>5.0</td>\n",
       "      <td>1.72</td>\n",
       "      <td>0.20</td>\n",
       "      <td>0.77</td>\n",
       "      <td>53000000.0</td>\n",
       "      <td>0.0</td>\n",
       "      <td>0.0</td>\n",
       "      <td>53000000.0</td>\n",
       "      <td>0.0</td>\n",
       "      <td>53000000.0</td>\n",
       "      <td>0.0</td>\n",
       "      <td>0.0</td>\n",
       "      <td>0.0</td>\n",
       "    </tr>\n",
       "    <tr>\n",
       "      <th>1</th>\n",
       "      <td>Afghanistan</td>\n",
       "      <td>Agrumes, Autres</td>\n",
       "      <td>vegetale</td>\n",
       "      <td>0.0</td>\n",
       "      <td>0.0</td>\n",
       "      <td>1.0</td>\n",
       "      <td>1.29</td>\n",
       "      <td>0.01</td>\n",
       "      <td>0.02</td>\n",
       "      <td>41000000.0</td>\n",
       "      <td>2000000.0</td>\n",
       "      <td>40000000.0</td>\n",
       "      <td>39000000.0</td>\n",
       "      <td>2000000.0</td>\n",
       "      <td>3000000.0</td>\n",
       "      <td>0.0</td>\n",
       "      <td>0.0</td>\n",
       "      <td>0.0</td>\n",
       "    </tr>\n",
       "    <tr>\n",
       "      <th>2</th>\n",
       "      <td>Afghanistan</td>\n",
       "      <td>Aliments pour enfants</td>\n",
       "      <td>vegetale</td>\n",
       "      <td>0.0</td>\n",
       "      <td>0.0</td>\n",
       "      <td>1.0</td>\n",
       "      <td>0.06</td>\n",
       "      <td>0.01</td>\n",
       "      <td>0.03</td>\n",
       "      <td>2000000.0</td>\n",
       "      <td>0.0</td>\n",
       "      <td>2000000.0</td>\n",
       "      <td>2000000.0</td>\n",
       "      <td>0.0</td>\n",
       "      <td>0.0</td>\n",
       "      <td>0.0</td>\n",
       "      <td>0.0</td>\n",
       "      <td>0.0</td>\n",
       "    </tr>\n",
       "    <tr>\n",
       "      <th>3</th>\n",
       "      <td>Afghanistan</td>\n",
       "      <td>Ananas</td>\n",
       "      <td>vegetale</td>\n",
       "      <td>0.0</td>\n",
       "      <td>0.0</td>\n",
       "      <td>0.0</td>\n",
       "      <td>0.00</td>\n",
       "      <td>0.00</td>\n",
       "      <td>0.00</td>\n",
       "      <td>0.0</td>\n",
       "      <td>0.0</td>\n",
       "      <td>0.0</td>\n",
       "      <td>0.0</td>\n",
       "      <td>0.0</td>\n",
       "      <td>0.0</td>\n",
       "      <td>0.0</td>\n",
       "      <td>0.0</td>\n",
       "      <td>0.0</td>\n",
       "    </tr>\n",
       "    <tr>\n",
       "      <th>4</th>\n",
       "      <td>Afghanistan</td>\n",
       "      <td>Bananes</td>\n",
       "      <td>vegetale</td>\n",
       "      <td>0.0</td>\n",
       "      <td>0.0</td>\n",
       "      <td>4.0</td>\n",
       "      <td>2.70</td>\n",
       "      <td>0.02</td>\n",
       "      <td>0.05</td>\n",
       "      <td>82000000.0</td>\n",
       "      <td>0.0</td>\n",
       "      <td>82000000.0</td>\n",
       "      <td>82000000.0</td>\n",
       "      <td>0.0</td>\n",
       "      <td>0.0</td>\n",
       "      <td>0.0</td>\n",
       "      <td>0.0</td>\n",
       "      <td>0.0</td>\n",
       "    </tr>\n",
       "  </tbody>\n",
       "</table>\n",
       "</div>"
      ],
      "text/plain": [
       "          Zone                Produit   Origine  Aliments pour animaux  \\\n",
       "0  Afghanistan       Abats Comestible   animale                    0.0   \n",
       "1  Afghanistan        Agrumes, Autres  vegetale                    0.0   \n",
       "2  Afghanistan  Aliments pour enfants  vegetale                    0.0   \n",
       "3  Afghanistan                 Ananas  vegetale                    0.0   \n",
       "4  Afghanistan                Bananes  vegetale                    0.0   \n",
       "\n",
       "   Autres Utilisations  Disponibilité alimentaire (Kcal/personne/jour)  \\\n",
       "0                  0.0                                             5.0   \n",
       "1                  0.0                                             1.0   \n",
       "2                  0.0                                             1.0   \n",
       "3                  0.0                                             0.0   \n",
       "4                  0.0                                             4.0   \n",
       "\n",
       "   Disponibilité alimentaire en quantité (kg/personne/an)  \\\n",
       "0                                               1.72        \n",
       "1                                               1.29        \n",
       "2                                               0.06        \n",
       "3                                               0.00        \n",
       "4                                               2.70        \n",
       "\n",
       "   Disponibilité de matière grasse en quantité (g/personne/jour)  \\\n",
       "0                                               0.20               \n",
       "1                                               0.01               \n",
       "2                                               0.01               \n",
       "3                                               0.00               \n",
       "4                                               0.02               \n",
       "\n",
       "   Disponibilité de protéines en quantité (g/personne/jour)  \\\n",
       "0                                               0.77          \n",
       "1                                               0.02          \n",
       "2                                               0.03          \n",
       "3                                               0.00          \n",
       "4                                               0.05          \n",
       "\n",
       "   Disponibilité intérieure  Exportations - Quantité  Importations - Quantité  \\\n",
       "0                53000000.0                      0.0                      0.0   \n",
       "1                41000000.0                2000000.0               40000000.0   \n",
       "2                 2000000.0                      0.0                2000000.0   \n",
       "3                       0.0                      0.0                      0.0   \n",
       "4                82000000.0                      0.0               82000000.0   \n",
       "\n",
       "   Nourriture     Pertes  Production  Semences  Traitement  Variation de stock  \n",
       "0  53000000.0        0.0  53000000.0       0.0         0.0                 0.0  \n",
       "1  39000000.0  2000000.0   3000000.0       0.0         0.0                 0.0  \n",
       "2   2000000.0        0.0         0.0       0.0         0.0                 0.0  \n",
       "3         0.0        0.0         0.0       0.0         0.0                 0.0  \n",
       "4  82000000.0        0.0         0.0       0.0         0.0                 0.0  "
      ]
     },
     "execution_count": 26,
     "metadata": {},
     "output_type": "execute_result"
    }
   ],
   "source": [
    "dispo_alim.head(5)"
   ]
  },
  {
   "cell_type": "markdown",
   "id": "3850e7db",
   "metadata": {
    "canvas": {
     "comments": [],
     "componentType": "CodeCell",
     "copiedOriginId": null,
     "diskcache": false,
     "headerColor": "none",
     "id": "f2f8a556-2a1e-4054-b31b-db5539a13e25",
     "isComponent": false,
     "name": "",
     "parents": []
    },
    "heading_collapsed": true
   },
   "source": [
    "# **Aide alimentaire**"
   ]
  },
  {
   "cell_type": "markdown",
   "id": "171ecfdd",
   "metadata": {
    "canvas": {
     "comments": [],
     "componentType": "CodeCell",
     "copiedOriginId": null,
     "diskcache": false,
     "headerColor": "none",
     "id": "38529dd4-29a6-4ba3-a078-1fe57b299a31",
     "isComponent": false,
     "name": "",
     "parents": []
    },
    "heading_collapsed": true,
    "hidden": true
   },
   "source": [
    "## Mise en commun des échelles"
   ]
  },
  {
   "cell_type": "code",
   "execution_count": 27,
   "id": "bd843919",
   "metadata": {
    "canvas": {
     "comments": [],
     "componentType": "CodeCell",
     "copiedOriginId": null,
     "diskcache": false,
     "headerColor": "none",
     "id": "5239a995-037a-4470-ab17-aa69282bc684",
     "isComponent": false,
     "name": "",
     "parents": []
    },
    "hidden": true
   },
   "outputs": [],
   "source": [
    "aide_alim['Valeur'] = aide_alim['Valeur'] * 1000"
   ]
  },
  {
   "cell_type": "code",
   "execution_count": 28,
   "id": "3a8a4b81",
   "metadata": {
    "canvas": {
     "comments": [],
     "componentType": "CodeCell",
     "copiedOriginId": null,
     "diskcache": false,
     "headerColor": "none",
     "id": "1dc28d1e-85f9-4dae-b411-5b01c5e9c19d",
     "isComponent": false,
     "name": "",
     "parents": []
    },
    "hidden": true
   },
   "outputs": [
    {
     "data": {
      "text/html": [
       "<div>\n",
       "<style scoped>\n",
       "    .dataframe tbody tr th:only-of-type {\n",
       "        vertical-align: middle;\n",
       "    }\n",
       "\n",
       "    .dataframe tbody tr th {\n",
       "        vertical-align: top;\n",
       "    }\n",
       "\n",
       "    .dataframe thead th {\n",
       "        text-align: right;\n",
       "    }\n",
       "</style>\n",
       "<table border=\"1\" class=\"dataframe\">\n",
       "  <thead>\n",
       "    <tr style=\"text-align: right;\">\n",
       "      <th></th>\n",
       "      <th>Pays bénéficiaire</th>\n",
       "      <th>Année</th>\n",
       "      <th>Produit</th>\n",
       "      <th>Valeur</th>\n",
       "    </tr>\n",
       "  </thead>\n",
       "  <tbody>\n",
       "    <tr>\n",
       "      <th>1381</th>\n",
       "      <td>Tchad</td>\n",
       "      <td>2015</td>\n",
       "      <td>Fruits secs, total</td>\n",
       "      <td>90000</td>\n",
       "    </tr>\n",
       "    <tr>\n",
       "      <th>585</th>\n",
       "      <td>Iran (République islamique d')</td>\n",
       "      <td>2016</td>\n",
       "      <td>Sucre, total</td>\n",
       "      <td>50000</td>\n",
       "    </tr>\n",
       "    <tr>\n",
       "      <th>1385</th>\n",
       "      <td>Tchad</td>\n",
       "      <td>2016</td>\n",
       "      <td>Huiles végétales</td>\n",
       "      <td>1216000</td>\n",
       "    </tr>\n",
       "    <tr>\n",
       "      <th>160</th>\n",
       "      <td>Burundi</td>\n",
       "      <td>2015</td>\n",
       "      <td>Mélanges et préparations</td>\n",
       "      <td>4903000</td>\n",
       "    </tr>\n",
       "    <tr>\n",
       "      <th>1015</th>\n",
       "      <td>République arabe syrienne</td>\n",
       "      <td>2015</td>\n",
       "      <td>Céréales</td>\n",
       "      <td>181475000</td>\n",
       "    </tr>\n",
       "  </tbody>\n",
       "</table>\n",
       "</div>"
      ],
      "text/plain": [
       "                   Pays bénéficiaire  Année                   Produit  \\\n",
       "1381                           Tchad   2015        Fruits secs, total   \n",
       "585   Iran (République islamique d')   2016              Sucre, total   \n",
       "1385                           Tchad   2016          Huiles végétales   \n",
       "160                          Burundi   2015  Mélanges et préparations   \n",
       "1015       République arabe syrienne   2015                  Céréales   \n",
       "\n",
       "         Valeur  \n",
       "1381      90000  \n",
       "585       50000  \n",
       "1385    1216000  \n",
       "160     4903000  \n",
       "1015  181475000  "
      ]
     },
     "execution_count": 28,
     "metadata": {},
     "output_type": "execute_result"
    }
   ],
   "source": [
    "aide_alim.sample(5)"
   ]
  },
  {
   "cell_type": "markdown",
   "id": "3fbd4aab",
   "metadata": {
    "canvas": {
     "comments": [],
     "componentType": "CodeCell",
     "copiedOriginId": null,
     "diskcache": false,
     "headerColor": "none",
     "id": "858610c0-9899-4a1a-bda0-18ad76235b3d",
     "isComponent": false,
     "name": "",
     "parents": []
    },
    "heading_collapsed": true,
    "hidden": true
   },
   "source": [
    "## Pour une meilleure lisibilité renommage de la colonne \"Valeur\" en \"Quantité\""
   ]
  },
  {
   "cell_type": "code",
   "execution_count": 29,
   "id": "44707da1",
   "metadata": {
    "canvas": {
     "comments": [],
     "componentType": "CodeCell",
     "copiedOriginId": null,
     "diskcache": false,
     "headerColor": "none",
     "id": "fa92a357-104f-4d94-9078-2db9b14e4461",
     "isComponent": false,
     "name": "",
     "parents": []
    },
    "hidden": true
   },
   "outputs": [],
   "source": [
    "aide_alim.rename(columns = {'Valeur': 'Quantité'}, inplace=True)"
   ]
  },
  {
   "cell_type": "code",
   "execution_count": 30,
   "id": "0a782a9c",
   "metadata": {
    "canvas": {
     "comments": [],
     "componentType": "CodeCell",
     "copiedOriginId": null,
     "diskcache": false,
     "headerColor": "none",
     "id": "9a9f6f20-96d3-49d4-93a2-ec30d1c04cdb",
     "isComponent": false,
     "name": "",
     "parents": []
    },
    "hidden": true
   },
   "outputs": [
    {
     "data": {
      "text/html": [
       "<div>\n",
       "<style scoped>\n",
       "    .dataframe tbody tr th:only-of-type {\n",
       "        vertical-align: middle;\n",
       "    }\n",
       "\n",
       "    .dataframe tbody tr th {\n",
       "        vertical-align: top;\n",
       "    }\n",
       "\n",
       "    .dataframe thead th {\n",
       "        text-align: right;\n",
       "    }\n",
       "</style>\n",
       "<table border=\"1\" class=\"dataframe\">\n",
       "  <thead>\n",
       "    <tr style=\"text-align: right;\">\n",
       "      <th></th>\n",
       "      <th>Pays bénéficiaire</th>\n",
       "      <th>Année</th>\n",
       "      <th>Produit</th>\n",
       "      <th>Quantité</th>\n",
       "    </tr>\n",
       "  </thead>\n",
       "  <tbody>\n",
       "    <tr>\n",
       "      <th>947</th>\n",
       "      <td>Pakistan</td>\n",
       "      <td>2014</td>\n",
       "      <td>Autres non-céréales</td>\n",
       "      <td>530000</td>\n",
       "    </tr>\n",
       "    <tr>\n",
       "      <th>1443</th>\n",
       "      <td>Yémen</td>\n",
       "      <td>2015</td>\n",
       "      <td>Poiss&amp;produi</td>\n",
       "      <td>232000</td>\n",
       "    </tr>\n",
       "    <tr>\n",
       "      <th>2</th>\n",
       "      <td>Afghanistan</td>\n",
       "      <td>2013</td>\n",
       "      <td>Blé et Farin</td>\n",
       "      <td>39224000</td>\n",
       "    </tr>\n",
       "    <tr>\n",
       "      <th>938</th>\n",
       "      <td>Ouganda</td>\n",
       "      <td>2015</td>\n",
       "      <td>Légumineuses Sèches,Tot.</td>\n",
       "      <td>1105000</td>\n",
       "    </tr>\n",
       "    <tr>\n",
       "      <th>906</th>\n",
       "      <td>Niger</td>\n",
       "      <td>2013</td>\n",
       "      <td>Huiles végétales</td>\n",
       "      <td>1351000</td>\n",
       "    </tr>\n",
       "  </tbody>\n",
       "</table>\n",
       "</div>"
      ],
      "text/plain": [
       "     Pays bénéficiaire  Année                   Produit  Quantité\n",
       "947           Pakistan   2014       Autres non-céréales    530000\n",
       "1443             Yémen   2015              Poiss&produi    232000\n",
       "2          Afghanistan   2013              Blé et Farin  39224000\n",
       "938            Ouganda   2015  Légumineuses Sèches,Tot.   1105000\n",
       "906              Niger   2013          Huiles végétales   1351000"
      ]
     },
     "execution_count": 30,
     "metadata": {},
     "output_type": "execute_result"
    }
   ],
   "source": [
    "aide_alim.sample(5)"
   ]
  },
  {
   "cell_type": "markdown",
   "id": "3eabffad",
   "metadata": {
    "canvas": {
     "comments": [],
     "componentType": "CodeCell",
     "copiedOriginId": null,
     "diskcache": false,
     "headerColor": "none",
     "id": "525b0750-f79f-4963-8ca6-ddf1c9cdc47e",
     "isComponent": false,
     "name": "",
     "parents": []
    },
    "heading_collapsed": true,
    "hidden": true
   },
   "source": [
    "## Au vu des futures jointures renommage des colonnes en noms uniques"
   ]
  },
  {
   "cell_type": "code",
   "execution_count": 31,
   "id": "82d0d0b0",
   "metadata": {
    "canvas": {
     "comments": [],
     "componentType": "CodeCell",
     "copiedOriginId": null,
     "diskcache": false,
     "headerColor": "none",
     "id": "e526f6f5-df5f-475a-9cb4-77ab06300c5a",
     "isComponent": false,
     "name": "",
     "parents": []
    },
    "hidden": true
   },
   "outputs": [],
   "source": [
    "aide_alim.rename(columns = {'Pays bénéficiaire': 'Zone'}, inplace=True)"
   ]
  },
  {
   "cell_type": "markdown",
   "id": "a64ae008",
   "metadata": {
    "canvas": {
     "comments": [],
     "componentType": "CodeCell",
     "copiedOriginId": null,
     "diskcache": false,
     "headerColor": "none",
     "id": "7403790a-1ad5-4fdd-9ea5-43bbeafb5c18",
     "isComponent": false,
     "name": "",
     "parents": []
    },
    "heading_collapsed": true,
    "hidden": true
   },
   "source": [
    "## Au vu des futures jointures renommage des valeurs"
   ]
  },
  {
   "cell_type": "code",
   "execution_count": 32,
   "id": "c11d15ae",
   "metadata": {
    "canvas": {
     "comments": [],
     "componentType": "CodeCell",
     "copiedOriginId": null,
     "diskcache": false,
     "headerColor": "none",
     "id": "85c35b97-1f2e-4c7c-8e88-5a6c7cf2b728",
     "isComponent": false,
     "name": "",
     "parents": []
    },
    "hidden": true
   },
   "outputs": [],
   "source": [
    "aide_alim['Zone'] = aide_alim['Zone'].replace('Swaziland', 'Eswatini')"
   ]
  },
  {
   "cell_type": "markdown",
   "id": "933866bb",
   "metadata": {
    "canvas": {
     "comments": [],
     "componentType": "CodeCell",
     "copiedOriginId": null,
     "diskcache": false,
     "headerColor": "none",
     "id": "e98b5d46-b953-4385-bdb1-70e65771bdf1",
     "isComponent": false,
     "name": "",
     "parents": []
    },
    "heading_collapsed": true
   },
   "source": [
    "# **Fichier pays ISO**"
   ]
  },
  {
   "cell_type": "markdown",
   "id": "f060f882",
   "metadata": {
    "canvas": {
     "comments": [],
     "componentType": "CodeCell",
     "copiedOriginId": null,
     "diskcache": false,
     "headerColor": "none",
     "id": "a4e0c7ba-45c6-462d-af54-b068015f8ce6",
     "isComponent": false,
     "name": "",
     "parents": []
    },
    "heading_collapsed": true,
    "hidden": true
   },
   "source": [
    "## Au vu des futures jointures renommage des valeurs"
   ]
  },
  {
   "cell_type": "code",
   "execution_count": 33,
   "id": "63e1c302",
   "metadata": {
    "canvas": {
     "comments": [],
     "componentType": "CodeCell",
     "copiedOriginId": null,
     "diskcache": false,
     "headerColor": "none",
     "id": "3f393fc7-b605-4bd1-bba3-5f4210ad354e",
     "isComponent": false,
     "name": "",
     "parents": []
    },
    "hidden": true
   },
   "outputs": [],
   "source": [
    "iso['NOM'] = iso['NOM'].replace('Taiwan', 'Chine, Taiwan Province de')\n",
    "iso['NOM'] = iso['NOM'].replace('Chine', 'Chine, continentale')"
   ]
  },
  {
   "cell_type": "markdown",
   "id": "73160fad",
   "metadata": {
    "canvas": {
     "comments": [],
     "componentType": "CodeCell",
     "copiedOriginId": null,
     "diskcache": false,
     "headerColor": "none",
     "id": "dcd7c645-352c-4968-bac9-e63cc259114e",
     "isComponent": false,
     "name": "",
     "parents": []
    },
    "heading_collapsed": true,
    "hidden": true
   },
   "source": [
    "## Au vu des futures jointures renommage des colonnes en noms uniques"
   ]
  },
  {
   "cell_type": "code",
   "execution_count": 34,
   "id": "693fec0a",
   "metadata": {
    "canvas": {
     "comments": [],
     "componentType": "CodeCell",
     "copiedOriginId": null,
     "diskcache": false,
     "headerColor": "none",
     "id": "6cb597d1-d7b9-4b81-adae-980348e8a638",
     "isComponent": false,
     "name": "",
     "parents": []
    },
    "hidden": true
   },
   "outputs": [],
   "source": [
    "iso.rename(columns = {'NOM': 'Zone'}, inplace=True)"
   ]
  },
  {
   "cell_type": "markdown",
   "id": "e766729a",
   "metadata": {
    "canvas": {
     "comments": [],
     "componentType": "CodeCell",
     "copiedOriginId": null,
     "diskcache": false,
     "headerColor": "none",
     "id": "379c7ac2-afd1-407f-b14d-87e26738953e",
     "isComponent": false,
     "name": "",
     "parents": []
    },
    "heading_collapsed": true,
    "hidden": true
   },
   "source": [
    "## Au vu des futures jointures rajout de valeurs"
   ]
  },
  {
   "cell_type": "code",
   "execution_count": 35,
   "id": "21022830",
   "metadata": {
    "canvas": {
     "comments": [],
     "componentType": "CodeCell",
     "copiedOriginId": null,
     "diskcache": false,
     "headerColor": "none",
     "id": "e8794e28-4ef2-47cd-b512-f5b527f42180",
     "isComponent": false,
     "name": "",
     "parents": []
    },
    "hidden": true
   },
   "outputs": [],
   "source": [
    "new_elements = [('Bermudes', 'BMU'), (\"Hong Kong\", \"HKG\"), (\"Macao\", \"MAC\"), (\"Saint-Kitts-et-Nevis\", 'KNA')]\n",
    "new_iso_data = pd.DataFrame(new_elements, columns = ['Zone' , 'CODE'])\n",
    "iso = pd.concat([iso, new_iso_data])"
   ]
  },
  {
   "cell_type": "markdown",
   "id": "65691f72",
   "metadata": {
    "canvas": {
     "comments": [],
     "componentType": "CodeCell",
     "copiedOriginId": null,
     "diskcache": false,
     "headerColor": "none",
     "id": "bc35c217-79d2-4b65-a335-6652582f6513",
     "isComponent": false,
     "name": "",
     "parents": []
    },
    "heading_collapsed": true
   },
   "source": [
    "# **Exportation des fichiers nettoyés vers un nouveau CSV**"
   ]
  },
  {
   "cell_type": "code",
   "execution_count": 36,
   "id": "47a1284f",
   "metadata": {
    "canvas": {
     "comments": [],
     "componentType": "CodeCell",
     "copiedOriginId": null,
     "diskcache": false,
     "headerColor": "none",
     "id": "f9621660-9c50-4960-ba14-53471fa40da6",
     "isComponent": false,
     "name": "",
     "parents": []
    },
    "hidden": true
   },
   "outputs": [
    {
     "name": "stdout",
     "output_type": "stream",
     "text": [
      "Exportation terminée\n"
     ]
    }
   ],
   "source": [
    "aide_alim.to_csv('src/aide_alimentaire_cleaned.csv', index=False) \n",
    "dispo_alim.to_csv('src/dispo_alimentaire_cleaned.csv', index=False) \n",
    "population.to_csv('src/population_cleaned.csv', index=False) \n",
    "sous_nutrition.to_csv('src/sous_nutrition_cleaned.csv', index=False)\n",
    "iso.to_csv('src/iso_gouv_cleaned.csv', index=False)\n",
    "print(\"Exportation terminée\")"
   ]
  }
 ],
 "metadata": {
  "canvas": {
   "colorPalette": [
    "inherit",
    "inherit",
    "inherit",
    "inherit",
    "inherit",
    "inherit",
    "inherit",
    "inherit",
    "inherit",
    "inherit"
   ],
   "parameters": [],
   "version": "1.0"
  },
  "kernelspec": {
   "display_name": "Python 3 (ipykernel)",
   "language": "python",
   "name": "python3"
  },
  "language_info": {
   "codemirror_mode": {
    "name": "ipython",
    "version": 3
   },
   "file_extension": ".py",
   "mimetype": "text/x-python",
   "name": "python",
   "nbconvert_exporter": "python",
   "pygments_lexer": "ipython3",
   "version": "3.9.13"
  },
  "toc": {
   "base_numbering": 1,
   "nav_menu": {},
   "number_sections": true,
   "sideBar": true,
   "skip_h1_title": false,
   "title_cell": "Table of Contents",
   "title_sidebar": "Contents",
   "toc_cell": false,
   "toc_position": {
    "height": "calc(100% - 180px)",
    "left": "10px",
    "top": "150px",
    "width": "464.59375px"
   },
   "toc_section_display": true,
   "toc_window_display": true
  },
  "varInspector": {
   "cols": {
    "lenName": 16,
    "lenType": 16,
    "lenVar": 40
   },
   "kernels_config": {
    "python": {
     "delete_cmd_postfix": "",
     "delete_cmd_prefix": "del ",
     "library": "var_list.py",
     "varRefreshCmd": "print(var_dic_list())"
    },
    "r": {
     "delete_cmd_postfix": ") ",
     "delete_cmd_prefix": "rm(",
     "library": "var_list.r",
     "varRefreshCmd": "cat(var_dic_list()) "
    }
   },
   "position": {
    "height": "909px",
    "left": "1638px",
    "right": "20px",
    "top": "112px",
    "width": "390px"
   },
   "types_to_exclude": [
    "module",
    "function",
    "builtin_function_or_method",
    "instance",
    "_Feature"
   ],
   "window_display": true
  }
 },
 "nbformat": 4,
 "nbformat_minor": 5
}
